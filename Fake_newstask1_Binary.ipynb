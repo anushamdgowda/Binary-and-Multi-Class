{
  "nbformat": 4,
  "nbformat_minor": 0,
  "metadata": {
    "colab": {
      "provenance": []
    },
    "kernelspec": {
      "name": "python3",
      "display_name": "Python 3"
    },
    "language_info": {
      "name": "python"
    }
  },
  "cells": [
    {
      "cell_type": "code",
      "source": [],
      "metadata": {
        "id": "7Pf7ksBpyfE1"
      },
      "execution_count": null,
      "outputs": []
    },
    {
      "source": [
        "df1 = pd.read_csv('/content/drive/MyDrive/run1.csv')  # Replace 'your_file.csv' with the actual file name"
      ],
      "cell_type": "code",
      "metadata": {
        "id": "L37wI9nUyg5c"
      },
      "execution_count": null,
      "outputs": []
    },
    {
      "cell_type": "code",
      "source": [
        "df2 = pd.read_csv('/content/drive/MyDrive/run2.csv')  # Replace 'your_file.csv' with the actual file name"
      ],
      "metadata": {
        "id": "O7iNoONXytWI"
      },
      "execution_count": null,
      "outputs": []
    },
    {
      "cell_type": "code",
      "source": [
        "df3 = pd.read_csv('/content/drive/MyDrive/run3.csv')  # Replace 'your_file.csv' with the actual file name"
      ],
      "metadata": {
        "id": "PLR2UrGiyxA2"
      },
      "execution_count": null,
      "outputs": []
    },
    {
      "cell_type": "code",
      "source": [
        "df4 = pd.read_csv('/content/drive/MyDrive/run4.csv')  # Replace 'your_file.csv' with the actual file name"
      ],
      "metadata": {
        "id": "farP-nWJy1Wg"
      },
      "execution_count": null,
      "outputs": []
    },
    {
      "source": [
        "df1.to_csv('YenCs_task1_run1.tsv', sep='\\t', index=False)\n",
        "df2.to_csv('YenCs_task1_run2.tsv', sep='\\t', index=False)\n",
        "df3.to_csv('YenCs_task1_run3.tsv', sep='\\t', index=False)\n",
        "df4.to_csv('YenCs_task1_run4.tsv', sep='\\t', index=False)\n",
        "  # Replace 'your_file.tsv' with the desired file name"
      ],
      "cell_type": "code",
      "metadata": {
        "id": "5FXWmZn4yhK6"
      },
      "execution_count": null,
      "outputs": []
    },
    {
      "source": [
        "# Assuming your DataFrame is named 'submission_df'\n",
        "submission_df1.to_csv('YenCs_task1_run1.tsv', sep='\\t', index=False)\n",
        "submission_df2.to_csv('YenCs_task1_run2.tsv', sep='\\t', index=False)\n",
        "submission_df3.to_csv('YenCs_task1_run3.tsv', sep='\\t', index=False)\n",
        "submission_df4.to_csv('YenCs_task1_run4.tsv', sep='\\t', index=False)"
      ],
      "cell_type": "code",
      "metadata": {
        "colab": {
          "base_uri": "https://localhost:8080/",
          "height": 220
        },
        "id": "COyiUB_Uzabg",
        "outputId": "4f645f37-1e62-4e04-88ef-5576775c22a0"
      },
      "execution_count": null,
      "outputs": [
        {
          "output_type": "error",
          "ename": "NameError",
          "evalue": "name 'submission_df1' is not defined",
          "traceback": [
            "\u001b[0;31m---------------------------------------------------------------------------\u001b[0m",
            "\u001b[0;31mNameError\u001b[0m                                 Traceback (most recent call last)",
            "\u001b[0;32m<ipython-input-68-8970555171d2>\u001b[0m in \u001b[0;36m<cell line: 2>\u001b[0;34m()\u001b[0m\n\u001b[1;32m      1\u001b[0m \u001b[0;31m# Assuming your DataFrame is named 'submission_df'\u001b[0m\u001b[0;34m\u001b[0m\u001b[0;34m\u001b[0m\u001b[0m\n\u001b[0;32m----> 2\u001b[0;31m \u001b[0msubmission_df1\u001b[0m\u001b[0;34m.\u001b[0m\u001b[0mto_csv\u001b[0m\u001b[0;34m(\u001b[0m\u001b[0;34m'YenCs_task1_run1.tsv'\u001b[0m\u001b[0;34m,\u001b[0m \u001b[0msep\u001b[0m\u001b[0;34m=\u001b[0m\u001b[0;34m'\\t'\u001b[0m\u001b[0;34m,\u001b[0m \u001b[0mindex\u001b[0m\u001b[0;34m=\u001b[0m\u001b[0;32mFalse\u001b[0m\u001b[0;34m)\u001b[0m\u001b[0;34m\u001b[0m\u001b[0;34m\u001b[0m\u001b[0m\n\u001b[0m\u001b[1;32m      3\u001b[0m \u001b[0msubmission_df2\u001b[0m\u001b[0;34m.\u001b[0m\u001b[0mto_csv\u001b[0m\u001b[0;34m(\u001b[0m\u001b[0;34m'YenCs_task1_run2.tsv'\u001b[0m\u001b[0;34m,\u001b[0m \u001b[0msep\u001b[0m\u001b[0;34m=\u001b[0m\u001b[0;34m'\\t'\u001b[0m\u001b[0;34m,\u001b[0m \u001b[0mindex\u001b[0m\u001b[0;34m=\u001b[0m\u001b[0;32mFalse\u001b[0m\u001b[0;34m)\u001b[0m\u001b[0;34m\u001b[0m\u001b[0;34m\u001b[0m\u001b[0m\n\u001b[1;32m      4\u001b[0m \u001b[0msubmission_df3\u001b[0m\u001b[0;34m.\u001b[0m\u001b[0mto_csv\u001b[0m\u001b[0;34m(\u001b[0m\u001b[0;34m'YenCs_task1_run3.tsv'\u001b[0m\u001b[0;34m,\u001b[0m \u001b[0msep\u001b[0m\u001b[0;34m=\u001b[0m\u001b[0;34m'\\t'\u001b[0m\u001b[0;34m,\u001b[0m \u001b[0mindex\u001b[0m\u001b[0;34m=\u001b[0m\u001b[0;32mFalse\u001b[0m\u001b[0;34m)\u001b[0m\u001b[0;34m\u001b[0m\u001b[0;34m\u001b[0m\u001b[0m\n\u001b[1;32m      5\u001b[0m \u001b[0msubmission_df4\u001b[0m\u001b[0;34m.\u001b[0m\u001b[0mto_csv\u001b[0m\u001b[0;34m(\u001b[0m\u001b[0;34m'YenCs_task1_run4.tsv'\u001b[0m\u001b[0;34m,\u001b[0m \u001b[0msep\u001b[0m\u001b[0;34m=\u001b[0m\u001b[0;34m'\\t'\u001b[0m\u001b[0;34m,\u001b[0m \u001b[0mindex\u001b[0m\u001b[0;34m=\u001b[0m\u001b[0;32mFalse\u001b[0m\u001b[0;34m)\u001b[0m\u001b[0;34m\u001b[0m\u001b[0;34m\u001b[0m\u001b[0m\n",
            "\u001b[0;31mNameError\u001b[0m: name 'submission_df1' is not defined"
          ]
        }
      ]
    },
    {
      "cell_type": "markdown",
      "source": [
        "Import libraries and packages\n",
        "\n",
        "\n"
      ],
      "metadata": {
        "id": "mXxkpfEUzIIb"
      }
    },
    {
      "cell_type": "code",
      "source": [
        "!pip install tensorflow\n",
        "from tensorflow.keras.layers import Input, Embedding, Bidirectional, SimpleRNN, Dense\n",
        "from tensorflow.keras.models import Model"
      ],
      "metadata": {
        "colab": {
          "base_uri": "https://localhost:8080/"
        },
        "id": "wZrkcVE45xZw",
        "outputId": "d0eb094c-463a-47db-f375-470ee286dcdf"
      },
      "execution_count": 17,
      "outputs": [
        {
          "output_type": "stream",
          "name": "stdout",
          "text": [
            "Requirement already satisfied: tensorflow in /usr/local/lib/python3.11/dist-packages (2.18.0)\n",
            "Requirement already satisfied: absl-py>=1.0.0 in /usr/local/lib/python3.11/dist-packages (from tensorflow) (1.4.0)\n",
            "Requirement already satisfied: astunparse>=1.6.0 in /usr/local/lib/python3.11/dist-packages (from tensorflow) (1.6.3)\n",
            "Requirement already satisfied: flatbuffers>=24.3.25 in /usr/local/lib/python3.11/dist-packages (from tensorflow) (25.2.10)\n",
            "Requirement already satisfied: gast!=0.5.0,!=0.5.1,!=0.5.2,>=0.2.1 in /usr/local/lib/python3.11/dist-packages (from tensorflow) (0.6.0)\n",
            "Requirement already satisfied: google-pasta>=0.1.1 in /usr/local/lib/python3.11/dist-packages (from tensorflow) (0.2.0)\n",
            "Requirement already satisfied: libclang>=13.0.0 in /usr/local/lib/python3.11/dist-packages (from tensorflow) (18.1.1)\n",
            "Requirement already satisfied: opt-einsum>=2.3.2 in /usr/local/lib/python3.11/dist-packages (from tensorflow) (3.4.0)\n",
            "Requirement already satisfied: packaging in /usr/local/lib/python3.11/dist-packages (from tensorflow) (24.2)\n",
            "Requirement already satisfied: protobuf!=4.21.0,!=4.21.1,!=4.21.2,!=4.21.3,!=4.21.4,!=4.21.5,<6.0.0dev,>=3.20.3 in /usr/local/lib/python3.11/dist-packages (from tensorflow) (4.25.6)\n",
            "Requirement already satisfied: requests<3,>=2.21.0 in /usr/local/lib/python3.11/dist-packages (from tensorflow) (2.32.3)\n",
            "Requirement already satisfied: setuptools in /usr/local/lib/python3.11/dist-packages (from tensorflow) (75.1.0)\n",
            "Requirement already satisfied: six>=1.12.0 in /usr/local/lib/python3.11/dist-packages (from tensorflow) (1.17.0)\n",
            "Requirement already satisfied: termcolor>=1.1.0 in /usr/local/lib/python3.11/dist-packages (from tensorflow) (2.5.0)\n",
            "Requirement already satisfied: typing-extensions>=3.6.6 in /usr/local/lib/python3.11/dist-packages (from tensorflow) (4.12.2)\n",
            "Requirement already satisfied: wrapt>=1.11.0 in /usr/local/lib/python3.11/dist-packages (from tensorflow) (1.17.2)\n",
            "Requirement already satisfied: grpcio<2.0,>=1.24.3 in /usr/local/lib/python3.11/dist-packages (from tensorflow) (1.71.0)\n",
            "Requirement already satisfied: tensorboard<2.19,>=2.18 in /usr/local/lib/python3.11/dist-packages (from tensorflow) (2.18.0)\n",
            "Requirement already satisfied: keras>=3.5.0 in /usr/local/lib/python3.11/dist-packages (from tensorflow) (3.8.0)\n",
            "Requirement already satisfied: numpy<2.1.0,>=1.26.0 in /usr/local/lib/python3.11/dist-packages (from tensorflow) (1.26.4)\n",
            "Requirement already satisfied: h5py>=3.11.0 in /usr/local/lib/python3.11/dist-packages (from tensorflow) (3.12.1)\n",
            "Requirement already satisfied: ml-dtypes<0.5.0,>=0.4.0 in /usr/local/lib/python3.11/dist-packages (from tensorflow) (0.4.1)\n",
            "Requirement already satisfied: tensorflow-io-gcs-filesystem>=0.23.1 in /usr/local/lib/python3.11/dist-packages (from tensorflow) (0.37.1)\n",
            "Requirement already satisfied: wheel<1.0,>=0.23.0 in /usr/local/lib/python3.11/dist-packages (from astunparse>=1.6.0->tensorflow) (0.45.1)\n",
            "Requirement already satisfied: rich in /usr/local/lib/python3.11/dist-packages (from keras>=3.5.0->tensorflow) (13.9.4)\n",
            "Requirement already satisfied: namex in /usr/local/lib/python3.11/dist-packages (from keras>=3.5.0->tensorflow) (0.0.8)\n",
            "Requirement already satisfied: optree in /usr/local/lib/python3.11/dist-packages (from keras>=3.5.0->tensorflow) (0.14.1)\n",
            "Requirement already satisfied: charset-normalizer<4,>=2 in /usr/local/lib/python3.11/dist-packages (from requests<3,>=2.21.0->tensorflow) (3.4.1)\n",
            "Requirement already satisfied: idna<4,>=2.5 in /usr/local/lib/python3.11/dist-packages (from requests<3,>=2.21.0->tensorflow) (3.10)\n",
            "Requirement already satisfied: urllib3<3,>=1.21.1 in /usr/local/lib/python3.11/dist-packages (from requests<3,>=2.21.0->tensorflow) (2.3.0)\n",
            "Requirement already satisfied: certifi>=2017.4.17 in /usr/local/lib/python3.11/dist-packages (from requests<3,>=2.21.0->tensorflow) (2025.1.31)\n",
            "Requirement already satisfied: markdown>=2.6.8 in /usr/local/lib/python3.11/dist-packages (from tensorboard<2.19,>=2.18->tensorflow) (3.7)\n",
            "Requirement already satisfied: tensorboard-data-server<0.8.0,>=0.7.0 in /usr/local/lib/python3.11/dist-packages (from tensorboard<2.19,>=2.18->tensorflow) (0.7.2)\n",
            "Requirement already satisfied: werkzeug>=1.0.1 in /usr/local/lib/python3.11/dist-packages (from tensorboard<2.19,>=2.18->tensorflow) (3.1.3)\n",
            "Requirement already satisfied: MarkupSafe>=2.1.1 in /usr/local/lib/python3.11/dist-packages (from werkzeug>=1.0.1->tensorboard<2.19,>=2.18->tensorflow) (3.0.2)\n",
            "Requirement already satisfied: markdown-it-py>=2.2.0 in /usr/local/lib/python3.11/dist-packages (from rich->keras>=3.5.0->tensorflow) (3.0.0)\n",
            "Requirement already satisfied: pygments<3.0.0,>=2.13.0 in /usr/local/lib/python3.11/dist-packages (from rich->keras>=3.5.0->tensorflow) (2.18.0)\n",
            "Requirement already satisfied: mdurl~=0.1 in /usr/local/lib/python3.11/dist-packages (from markdown-it-py>=2.2.0->rich->keras>=3.5.0->tensorflow) (0.1.2)\n"
          ]
        }
      ]
    },
    {
      "source": [
        "!pip install tensorflow\n",
        "from tensorflow.keras.layers import Input, Embedding, Bidirectional, SimpleRNN, Dense # Import Input here\n",
        "from tensorflow.keras.models import Model"
      ],
      "cell_type": "code",
      "metadata": {
        "collapsed": true,
        "colab": {
          "base_uri": "https://localhost:8080/"
        },
        "id": "KkPOmKRlEfvM",
        "outputId": "9ee312ed-be7f-469a-f234-9b97fdee5147"
      },
      "execution_count": 19,
      "outputs": [
        {
          "output_type": "stream",
          "name": "stdout",
          "text": [
            "Requirement already satisfied: tensorflow in /usr/local/lib/python3.11/dist-packages (2.18.0)\n",
            "Requirement already satisfied: absl-py>=1.0.0 in /usr/local/lib/python3.11/dist-packages (from tensorflow) (1.4.0)\n",
            "Requirement already satisfied: astunparse>=1.6.0 in /usr/local/lib/python3.11/dist-packages (from tensorflow) (1.6.3)\n",
            "Requirement already satisfied: flatbuffers>=24.3.25 in /usr/local/lib/python3.11/dist-packages (from tensorflow) (25.2.10)\n",
            "Requirement already satisfied: gast!=0.5.0,!=0.5.1,!=0.5.2,>=0.2.1 in /usr/local/lib/python3.11/dist-packages (from tensorflow) (0.6.0)\n",
            "Requirement already satisfied: google-pasta>=0.1.1 in /usr/local/lib/python3.11/dist-packages (from tensorflow) (0.2.0)\n",
            "Requirement already satisfied: libclang>=13.0.0 in /usr/local/lib/python3.11/dist-packages (from tensorflow) (18.1.1)\n",
            "Requirement already satisfied: opt-einsum>=2.3.2 in /usr/local/lib/python3.11/dist-packages (from tensorflow) (3.4.0)\n",
            "Requirement already satisfied: packaging in /usr/local/lib/python3.11/dist-packages (from tensorflow) (24.2)\n",
            "Requirement already satisfied: protobuf!=4.21.0,!=4.21.1,!=4.21.2,!=4.21.3,!=4.21.4,!=4.21.5,<6.0.0dev,>=3.20.3 in /usr/local/lib/python3.11/dist-packages (from tensorflow) (4.25.6)\n",
            "Requirement already satisfied: requests<3,>=2.21.0 in /usr/local/lib/python3.11/dist-packages (from tensorflow) (2.32.3)\n",
            "Requirement already satisfied: setuptools in /usr/local/lib/python3.11/dist-packages (from tensorflow) (75.1.0)\n",
            "Requirement already satisfied: six>=1.12.0 in /usr/local/lib/python3.11/dist-packages (from tensorflow) (1.17.0)\n",
            "Requirement already satisfied: termcolor>=1.1.0 in /usr/local/lib/python3.11/dist-packages (from tensorflow) (2.5.0)\n",
            "Requirement already satisfied: typing-extensions>=3.6.6 in /usr/local/lib/python3.11/dist-packages (from tensorflow) (4.12.2)\n",
            "Requirement already satisfied: wrapt>=1.11.0 in /usr/local/lib/python3.11/dist-packages (from tensorflow) (1.17.2)\n",
            "Requirement already satisfied: grpcio<2.0,>=1.24.3 in /usr/local/lib/python3.11/dist-packages (from tensorflow) (1.71.0)\n",
            "Requirement already satisfied: tensorboard<2.19,>=2.18 in /usr/local/lib/python3.11/dist-packages (from tensorflow) (2.18.0)\n",
            "Requirement already satisfied: keras>=3.5.0 in /usr/local/lib/python3.11/dist-packages (from tensorflow) (3.8.0)\n",
            "Requirement already satisfied: numpy<2.1.0,>=1.26.0 in /usr/local/lib/python3.11/dist-packages (from tensorflow) (1.26.4)\n",
            "Requirement already satisfied: h5py>=3.11.0 in /usr/local/lib/python3.11/dist-packages (from tensorflow) (3.12.1)\n",
            "Requirement already satisfied: ml-dtypes<0.5.0,>=0.4.0 in /usr/local/lib/python3.11/dist-packages (from tensorflow) (0.4.1)\n",
            "Requirement already satisfied: tensorflow-io-gcs-filesystem>=0.23.1 in /usr/local/lib/python3.11/dist-packages (from tensorflow) (0.37.1)\n",
            "Requirement already satisfied: wheel<1.0,>=0.23.0 in /usr/local/lib/python3.11/dist-packages (from astunparse>=1.6.0->tensorflow) (0.45.1)\n",
            "Requirement already satisfied: rich in /usr/local/lib/python3.11/dist-packages (from keras>=3.5.0->tensorflow) (13.9.4)\n",
            "Requirement already satisfied: namex in /usr/local/lib/python3.11/dist-packages (from keras>=3.5.0->tensorflow) (0.0.8)\n",
            "Requirement already satisfied: optree in /usr/local/lib/python3.11/dist-packages (from keras>=3.5.0->tensorflow) (0.14.1)\n",
            "Requirement already satisfied: charset-normalizer<4,>=2 in /usr/local/lib/python3.11/dist-packages (from requests<3,>=2.21.0->tensorflow) (3.4.1)\n",
            "Requirement already satisfied: idna<4,>=2.5 in /usr/local/lib/python3.11/dist-packages (from requests<3,>=2.21.0->tensorflow) (3.10)\n",
            "Requirement already satisfied: urllib3<3,>=1.21.1 in /usr/local/lib/python3.11/dist-packages (from requests<3,>=2.21.0->tensorflow) (2.3.0)\n",
            "Requirement already satisfied: certifi>=2017.4.17 in /usr/local/lib/python3.11/dist-packages (from requests<3,>=2.21.0->tensorflow) (2025.1.31)\n",
            "Requirement already satisfied: markdown>=2.6.8 in /usr/local/lib/python3.11/dist-packages (from tensorboard<2.19,>=2.18->tensorflow) (3.7)\n",
            "Requirement already satisfied: tensorboard-data-server<0.8.0,>=0.7.0 in /usr/local/lib/python3.11/dist-packages (from tensorboard<2.19,>=2.18->tensorflow) (0.7.2)\n",
            "Requirement already satisfied: werkzeug>=1.0.1 in /usr/local/lib/python3.11/dist-packages (from tensorboard<2.19,>=2.18->tensorflow) (3.1.3)\n",
            "Requirement already satisfied: MarkupSafe>=2.1.1 in /usr/local/lib/python3.11/dist-packages (from werkzeug>=1.0.1->tensorboard<2.19,>=2.18->tensorflow) (3.0.2)\n",
            "Requirement already satisfied: markdown-it-py>=2.2.0 in /usr/local/lib/python3.11/dist-packages (from rich->keras>=3.5.0->tensorflow) (3.0.0)\n",
            "Requirement already satisfied: pygments<3.0.0,>=2.13.0 in /usr/local/lib/python3.11/dist-packages (from rich->keras>=3.5.0->tensorflow) (2.18.0)\n",
            "Requirement already satisfied: mdurl~=0.1 in /usr/local/lib/python3.11/dist-packages (from markdown-it-py>=2.2.0->rich->keras>=3.5.0->tensorflow) (0.1.2)\n"
          ]
        }
      ]
    },
    {
      "cell_type": "code",
      "source": [],
      "metadata": {
        "id": "6yNhIY1TzH1d"
      },
      "execution_count": null,
      "outputs": []
    },
    {
      "cell_type": "code",
      "execution_count": 75,
      "metadata": {
        "id": "0N_Aq-ruU4-r"
      },
      "outputs": [],
      "source": [
        "import pandas as pd\n",
        "from tensorflow.keras.preprocessing.text import Tokenizer\n",
        "from sklearn.metrics import accuracy_score, confusion_matrix, classification_report, f1_score\n",
        "from sklearn.feature_extraction.text import  CountVectorizer, TfidfTransformer,TfidfVectorizer\n",
        "from sklearn.ensemble import VotingClassifier\n",
        "from xgboost import XGBClassifier\n",
        "from sklearn.ensemble import GradientBoostingClassifier, RandomForestClassifier\n",
        "from sklearn.metrics import precision_recall_fscore_support as score\n",
        "from sklearn.svm import SVC\n",
        "from sklearn.model_selection import GridSearchCV\n",
        "from tensorflow.keras.callbacks import EarlyStopping\n",
        "from tensorflow.keras.callbacks import EarlyStopping\n",
        "from textblob import TextBlob\n",
        "\n",
        "import nltk.data\n",
        "import numpy as np\n",
        "import pandas as pd\n",
        "import re\n",
        "import time\n",
        "import string\n",
        "from tensorflow.keras.preprocessing.text import Tokenizer\n",
        "from tensorflow.keras.utils import pad_sequences # Import pad_sequences"
      ]
    },
    {
      "cell_type": "markdown",
      "source": [
        "**Data** **loading**"
      ],
      "metadata": {
        "id": "_bkEdEncB9Y6"
      }
    },
    {
      "cell_type": "code",
      "source": [
        "data_train=pd.read_csv(\"/content/drive/MyDrive/Fake_train.csv\")\n",
        "data_dev=pd.read_csv(\"/content/drive/MyDrive/Fake_dev.csv\")\n",
        "data_train.head()"
      ],
      "metadata": {
        "colab": {
          "base_uri": "https://localhost:8080/",
          "height": 206
        },
        "id": "8HzZI7DaWhTc",
        "outputId": "16c671bc-60c4-4f27-f5da-b51146cc2bea"
      },
      "execution_count": 3,
      "outputs": [
        {
          "output_type": "execute_result",
          "data": {
            "text/plain": [
              "                                                text     label\n",
              "0                  നല്ല അവതരണം. സത്യം പുറത്തു വരട്ടെ      Fake\n",
              "1                                        Masha Allah      Fake\n",
              "2  അന്വേഷണം കഴിയുമ്പോൾ,. C. A. A. യ്ക്ക് എതിരായ ക...      Fake\n",
              "3    Illathentha avaru purath vidayittalland verenth      Fake\n",
              "4  Barana pakshathin matoru niyamam.nalla moyanth...  original"
            ],
            "text/html": [
              "\n",
              "  <div id=\"df-37f68b91-a914-47ec-9dc0-ff8484482c01\" class=\"colab-df-container\">\n",
              "    <div>\n",
              "<style scoped>\n",
              "    .dataframe tbody tr th:only-of-type {\n",
              "        vertical-align: middle;\n",
              "    }\n",
              "\n",
              "    .dataframe tbody tr th {\n",
              "        vertical-align: top;\n",
              "    }\n",
              "\n",
              "    .dataframe thead th {\n",
              "        text-align: right;\n",
              "    }\n",
              "</style>\n",
              "<table border=\"1\" class=\"dataframe\">\n",
              "  <thead>\n",
              "    <tr style=\"text-align: right;\">\n",
              "      <th></th>\n",
              "      <th>text</th>\n",
              "      <th>label</th>\n",
              "    </tr>\n",
              "  </thead>\n",
              "  <tbody>\n",
              "    <tr>\n",
              "      <th>0</th>\n",
              "      <td>നല്ല അവതരണം. സത്യം പുറത്തു വരട്ടെ</td>\n",
              "      <td>Fake</td>\n",
              "    </tr>\n",
              "    <tr>\n",
              "      <th>1</th>\n",
              "      <td>Masha Allah</td>\n",
              "      <td>Fake</td>\n",
              "    </tr>\n",
              "    <tr>\n",
              "      <th>2</th>\n",
              "      <td>അന്വേഷണം കഴിയുമ്പോൾ,. C. A. A. യ്ക്ക് എതിരായ ക...</td>\n",
              "      <td>Fake</td>\n",
              "    </tr>\n",
              "    <tr>\n",
              "      <th>3</th>\n",
              "      <td>Illathentha avaru purath vidayittalland verenth</td>\n",
              "      <td>Fake</td>\n",
              "    </tr>\n",
              "    <tr>\n",
              "      <th>4</th>\n",
              "      <td>Barana pakshathin matoru niyamam.nalla moyanth...</td>\n",
              "      <td>original</td>\n",
              "    </tr>\n",
              "  </tbody>\n",
              "</table>\n",
              "</div>\n",
              "    <div class=\"colab-df-buttons\">\n",
              "\n",
              "  <div class=\"colab-df-container\">\n",
              "    <button class=\"colab-df-convert\" onclick=\"convertToInteractive('df-37f68b91-a914-47ec-9dc0-ff8484482c01')\"\n",
              "            title=\"Convert this dataframe to an interactive table.\"\n",
              "            style=\"display:none;\">\n",
              "\n",
              "  <svg xmlns=\"http://www.w3.org/2000/svg\" height=\"24px\" viewBox=\"0 -960 960 960\">\n",
              "    <path d=\"M120-120v-720h720v720H120Zm60-500h600v-160H180v160Zm220 220h160v-160H400v160Zm0 220h160v-160H400v160ZM180-400h160v-160H180v160Zm440 0h160v-160H620v160ZM180-180h160v-160H180v160Zm440 0h160v-160H620v160Z\"/>\n",
              "  </svg>\n",
              "    </button>\n",
              "\n",
              "  <style>\n",
              "    .colab-df-container {\n",
              "      display:flex;\n",
              "      gap: 12px;\n",
              "    }\n",
              "\n",
              "    .colab-df-convert {\n",
              "      background-color: #E8F0FE;\n",
              "      border: none;\n",
              "      border-radius: 50%;\n",
              "      cursor: pointer;\n",
              "      display: none;\n",
              "      fill: #1967D2;\n",
              "      height: 32px;\n",
              "      padding: 0 0 0 0;\n",
              "      width: 32px;\n",
              "    }\n",
              "\n",
              "    .colab-df-convert:hover {\n",
              "      background-color: #E2EBFA;\n",
              "      box-shadow: 0px 1px 2px rgba(60, 64, 67, 0.3), 0px 1px 3px 1px rgba(60, 64, 67, 0.15);\n",
              "      fill: #174EA6;\n",
              "    }\n",
              "\n",
              "    .colab-df-buttons div {\n",
              "      margin-bottom: 4px;\n",
              "    }\n",
              "\n",
              "    [theme=dark] .colab-df-convert {\n",
              "      background-color: #3B4455;\n",
              "      fill: #D2E3FC;\n",
              "    }\n",
              "\n",
              "    [theme=dark] .colab-df-convert:hover {\n",
              "      background-color: #434B5C;\n",
              "      box-shadow: 0px 1px 3px 1px rgba(0, 0, 0, 0.15);\n",
              "      filter: drop-shadow(0px 1px 2px rgba(0, 0, 0, 0.3));\n",
              "      fill: #FFFFFF;\n",
              "    }\n",
              "  </style>\n",
              "\n",
              "    <script>\n",
              "      const buttonEl =\n",
              "        document.querySelector('#df-37f68b91-a914-47ec-9dc0-ff8484482c01 button.colab-df-convert');\n",
              "      buttonEl.style.display =\n",
              "        google.colab.kernel.accessAllowed ? 'block' : 'none';\n",
              "\n",
              "      async function convertToInteractive(key) {\n",
              "        const element = document.querySelector('#df-37f68b91-a914-47ec-9dc0-ff8484482c01');\n",
              "        const dataTable =\n",
              "          await google.colab.kernel.invokeFunction('convertToInteractive',\n",
              "                                                    [key], {});\n",
              "        if (!dataTable) return;\n",
              "\n",
              "        const docLinkHtml = 'Like what you see? Visit the ' +\n",
              "          '<a target=\"_blank\" href=https://colab.research.google.com/notebooks/data_table.ipynb>data table notebook</a>'\n",
              "          + ' to learn more about interactive tables.';\n",
              "        element.innerHTML = '';\n",
              "        dataTable['output_type'] = 'display_data';\n",
              "        await google.colab.output.renderOutput(dataTable, element);\n",
              "        const docLink = document.createElement('div');\n",
              "        docLink.innerHTML = docLinkHtml;\n",
              "        element.appendChild(docLink);\n",
              "      }\n",
              "    </script>\n",
              "  </div>\n",
              "\n",
              "\n",
              "<div id=\"df-5ddd44b1-84e0-4f3e-b5da-eee2f812e636\">\n",
              "  <button class=\"colab-df-quickchart\" onclick=\"quickchart('df-5ddd44b1-84e0-4f3e-b5da-eee2f812e636')\"\n",
              "            title=\"Suggest charts\"\n",
              "            style=\"display:none;\">\n",
              "\n",
              "<svg xmlns=\"http://www.w3.org/2000/svg\" height=\"24px\"viewBox=\"0 0 24 24\"\n",
              "     width=\"24px\">\n",
              "    <g>\n",
              "        <path d=\"M19 3H5c-1.1 0-2 .9-2 2v14c0 1.1.9 2 2 2h14c1.1 0 2-.9 2-2V5c0-1.1-.9-2-2-2zM9 17H7v-7h2v7zm4 0h-2V7h2v10zm4 0h-2v-4h2v4z\"/>\n",
              "    </g>\n",
              "</svg>\n",
              "  </button>\n",
              "\n",
              "<style>\n",
              "  .colab-df-quickchart {\n",
              "      --bg-color: #E8F0FE;\n",
              "      --fill-color: #1967D2;\n",
              "      --hover-bg-color: #E2EBFA;\n",
              "      --hover-fill-color: #174EA6;\n",
              "      --disabled-fill-color: #AAA;\n",
              "      --disabled-bg-color: #DDD;\n",
              "  }\n",
              "\n",
              "  [theme=dark] .colab-df-quickchart {\n",
              "      --bg-color: #3B4455;\n",
              "      --fill-color: #D2E3FC;\n",
              "      --hover-bg-color: #434B5C;\n",
              "      --hover-fill-color: #FFFFFF;\n",
              "      --disabled-bg-color: #3B4455;\n",
              "      --disabled-fill-color: #666;\n",
              "  }\n",
              "\n",
              "  .colab-df-quickchart {\n",
              "    background-color: var(--bg-color);\n",
              "    border: none;\n",
              "    border-radius: 50%;\n",
              "    cursor: pointer;\n",
              "    display: none;\n",
              "    fill: var(--fill-color);\n",
              "    height: 32px;\n",
              "    padding: 0;\n",
              "    width: 32px;\n",
              "  }\n",
              "\n",
              "  .colab-df-quickchart:hover {\n",
              "    background-color: var(--hover-bg-color);\n",
              "    box-shadow: 0 1px 2px rgba(60, 64, 67, 0.3), 0 1px 3px 1px rgba(60, 64, 67, 0.15);\n",
              "    fill: var(--button-hover-fill-color);\n",
              "  }\n",
              "\n",
              "  .colab-df-quickchart-complete:disabled,\n",
              "  .colab-df-quickchart-complete:disabled:hover {\n",
              "    background-color: var(--disabled-bg-color);\n",
              "    fill: var(--disabled-fill-color);\n",
              "    box-shadow: none;\n",
              "  }\n",
              "\n",
              "  .colab-df-spinner {\n",
              "    border: 2px solid var(--fill-color);\n",
              "    border-color: transparent;\n",
              "    border-bottom-color: var(--fill-color);\n",
              "    animation:\n",
              "      spin 1s steps(1) infinite;\n",
              "  }\n",
              "\n",
              "  @keyframes spin {\n",
              "    0% {\n",
              "      border-color: transparent;\n",
              "      border-bottom-color: var(--fill-color);\n",
              "      border-left-color: var(--fill-color);\n",
              "    }\n",
              "    20% {\n",
              "      border-color: transparent;\n",
              "      border-left-color: var(--fill-color);\n",
              "      border-top-color: var(--fill-color);\n",
              "    }\n",
              "    30% {\n",
              "      border-color: transparent;\n",
              "      border-left-color: var(--fill-color);\n",
              "      border-top-color: var(--fill-color);\n",
              "      border-right-color: var(--fill-color);\n",
              "    }\n",
              "    40% {\n",
              "      border-color: transparent;\n",
              "      border-right-color: var(--fill-color);\n",
              "      border-top-color: var(--fill-color);\n",
              "    }\n",
              "    60% {\n",
              "      border-color: transparent;\n",
              "      border-right-color: var(--fill-color);\n",
              "    }\n",
              "    80% {\n",
              "      border-color: transparent;\n",
              "      border-right-color: var(--fill-color);\n",
              "      border-bottom-color: var(--fill-color);\n",
              "    }\n",
              "    90% {\n",
              "      border-color: transparent;\n",
              "      border-bottom-color: var(--fill-color);\n",
              "    }\n",
              "  }\n",
              "</style>\n",
              "\n",
              "  <script>\n",
              "    async function quickchart(key) {\n",
              "      const quickchartButtonEl =\n",
              "        document.querySelector('#' + key + ' button');\n",
              "      quickchartButtonEl.disabled = true;  // To prevent multiple clicks.\n",
              "      quickchartButtonEl.classList.add('colab-df-spinner');\n",
              "      try {\n",
              "        const charts = await google.colab.kernel.invokeFunction(\n",
              "            'suggestCharts', [key], {});\n",
              "      } catch (error) {\n",
              "        console.error('Error during call to suggestCharts:', error);\n",
              "      }\n",
              "      quickchartButtonEl.classList.remove('colab-df-spinner');\n",
              "      quickchartButtonEl.classList.add('colab-df-quickchart-complete');\n",
              "    }\n",
              "    (() => {\n",
              "      let quickchartButtonEl =\n",
              "        document.querySelector('#df-5ddd44b1-84e0-4f3e-b5da-eee2f812e636 button');\n",
              "      quickchartButtonEl.style.display =\n",
              "        google.colab.kernel.accessAllowed ? 'block' : 'none';\n",
              "    })();\n",
              "  </script>\n",
              "</div>\n",
              "\n",
              "    </div>\n",
              "  </div>\n"
            ],
            "application/vnd.google.colaboratory.intrinsic+json": {
              "type": "dataframe",
              "variable_name": "data_train",
              "summary": "{\n  \"name\": \"data_train\",\n  \"rows\": 3257,\n  \"fields\": [\n    {\n      \"column\": \"text\",\n      \"properties\": {\n        \"dtype\": \"string\",\n        \"num_unique_values\": 3186,\n        \"samples\": [\n          \"\\u0d24\\u0d3e\\u0d19\\u0d4d\\u0d15\\u0d7e.... \\u0d35\\u0d48\\u0d31\\u0d4b\\u0d33\\u0d3f\\u0d1c\\u0d3f\\u0d38\\u0d4d\\u0d31\\u0d4d \\u0d28\\u0d4d... \\u0d21\\u0d4b\\u0d15\\u0d4d\\u0d1f\\u0d7c \\u0d2e\\u0d3e\\u0d30\\u0d46... \\u0d28\\u0d3f\\u0d30\\u0d3e\\u0d36 \\u0d2a\\u0d46\\u0d1f\\u0d41\\u0d24\\u0d4d\\u0d24\\u0d3f \\u0d35\\u0d3e\\u0d15\\u0d4d\\u200c\\u0d38\\u0d3f\\u0d7b \\u0d15\\u0d23\\u0d4d\\u0d1f\\u0d41 \\u0d2a\\u0d3f\\u0d1f\\u0d3f\\u0d15\\u0d4d\\u0d15\\u0d41\\u0d28\\u0d4d\\u0d28\\u0d35\\u0d7c... \\u0d09\\u0d26\\u0d3e\\u0d38\\u0d40\\u0d28\\u0d24 \\u0d09\\u0d23\\u0d4d\\u0d1f\\u0d3e\\u0d15\\u0d4d\\u0d15\\u0d41\\u0d02... \\u0d07\\u0d24\\u0d41 \\u0d2a\\u0d4b\\u0d32\\u0d41\\u0d33\\u0d4d\\u0d33... \\u0d28\\u0d3f\\u0d32\\u0d2a\\u0d3e\\u0d1f\\u0d4d \\u0d35\\u0d47\\u0d23\\u0d4d\\u0d1f... \\u0d15\\u0d4a\\u0d31\\u0d4b\\u0d23 \\u0d2a\\u0d4b\\u0d15\\u0d41\\u0d28\\u0d4d\\u0d28\\u0d41 \\u0d09\\u0d23\\u0d4d\\u0d1f\\u0d4d \\u0d0e\\u0d19\\u0d4d\\u0d15\\u0d3f\\u0d7d \\u0d2a\\u0d4b\\u0d15\\u0d1f\\u0d4d\\u0d1f\\u0d46... \\u0d06\\u0d30\\u0d41\\u0d02 \\u0d24\\u0d1f\\u0d38\\u0d4d\\u0d38\\u0d02 \\u0d2a\\u0d31\\u0d2f\\u0d3f\\u0d32\\u0d4d\\u0d32...\",\n          \"\\u0d24\\u0d3e\\u0d19\\u0d4d\\u0d15\\u0d33\\u0d46 \\u0d15\\u0d41\\u0d31\\u0d4d\\u0d31\\u0d02 \\u0d2a\\u0d31\\u0d1e\\u0d4d\\u0d1e\\u0d3f\\u0d1f\\u0d4d\\u0d1f\\u0d4d \\u0d15\\u0d3e\\u0d30\\u0d4d\\u0d2f\\u0d2e\\u0d3f\\u0d32\\u0d4d\\u0d32 \\u0d28\\u0d32\\u0d4d\\u0d32 \\u0d15\\u0d3e\\u0d30\\u0d4d\\u0d2f\\u0d19\\u0d4d\\u0d19\\u0d33\\u0d46  \\u0d24\\u0d3f\\u0d30\\u0d3f\\u0d1a\\u0d4d\\u0d1a\\u0d31\\u0d3f\\u0d2f\\u0d3e\\u0d7b  \\u0d28\\u0d32\\u0d4d\\u0d32 \\u0d2e\\u0d28\\u0d41\\u0d37\\u0d4d\\u0d2f\\u0d7c\\u0d15\\u0d46  \\u0d15\\u0d34\\u0d3f\\u0d2f\\u0d42 \\u0d05\\u0d24\\u0d4d  \\u0d2a\\u0d4d\\u0d30\\u0d15\\u0d43\\u0d24\\u0d3f \\u0d28\\u0d3f\\u0d2f\\u0d2e\\u0d2e\\u0d3e\\u0d23\\u0d4d \\u0d08 \\u0d32\\u0d4b\\u0d15\\u0d24\\u0d4d\\u0d24\\u0d4d \\u0d05\\u0d24\\u0d4d \\u0d2a\\u0d4b\\u0d38\\u0d3f\\u0d31\\u0d4d\\u0d31\\u0d40\\u0d35\\u0d4d \\u0d2e\\u0d3e\\u0d24\\u0d4d\\u0d30\\u0d02 \\u0d2a\\u0d4b\\u0d30 \\u0d28\\u0d46\\u0d17\\u0d31\\u0d4d\\u0d31\\u0d40\\u0d35\\u0d4d \\u0d35\\u0d47\\u0d23\\u0d02 \\u0d05\\u0d24\\u0d41\\u0d02 \\u0d12\\u0d30\\u0d41 \\u0d2f\\u0d3e\\u0d25\\u0d3e\\u0d7c\\u0d24\\u0d4d\\u0d25\\u0d4d\\u0d2f\\u0d2e\\u0d3e\\u0d23\\u0d4d \\u0d05\\u0d24\\u0d41\\u0d15\\u0d4a\\u0d23\\u0d4d\\u0d1f\\u0d4d \\u0d24\\u0d3e\\u0d19\\u0d4d\\u0d15\\u0d33\\u0d46\\u0d2a\\u0d4d\\u0d2a\\u0d4b\\u0d32\\u0d41\\u0d33\\u0d4d\\u0d33\\u0d35\\u0d7c \\u0d08 \\u0d2d\\u0d42\\u0d2e\\u0d3f\\u0d2f\\u0d3f\\u0d7d \\u0d06\\u0d35\\u0d36\\u0d4d\\u0d2f\\u0d2e\\u0d3e\\u0d23\\u0d4d\",\n          \"\\u0d15\\u0d47\\u0d28\\u0d4d\\u0d26\\u0d4d\\u0d30\\u0d35\\u0d41\\u0d02 \\u0d15\\u0d23\\u0d15\\u0d4d\\u0d15\\u0d4d.... \\u0d38\\u0d02\\u0d38\\u0d4d\\u0d25\\u0d3e\\u0d28 \\u0d38\\u0d7c\\u0d15\\u0d4d\\u0d15\\u0d3e\\u0d31\\u0d41\\u0d02.... \\u0d07\\u0d35\\u0d2e\\u0d4d\\u0d2e\\u0d3e\\u0d30\\u0d46\\u0d2f\\u0d4a\\u0d15\\u0d4d\\u0d15 elect \\u0d1a\\u0d46\\u0d2f\\u0d4d\\u0d24 \\u0d28\\u0d2e\\u0d4d\\u0d2e\\u0d33\\u0d46 \\u0d2a\\u0d31\\u0d1e\\u0d4d\\u0d1e\\u0d7d \\u0d2e\\u0d24\\u0d3f....\"\n        ],\n        \"semantic_type\": \"\",\n        \"description\": \"\"\n      }\n    },\n    {\n      \"column\": \"label\",\n      \"properties\": {\n        \"dtype\": \"category\",\n        \"num_unique_values\": 2,\n        \"samples\": [\n          \"original\",\n          \"Fake\"\n        ],\n        \"semantic_type\": \"\",\n        \"description\": \"\"\n      }\n    }\n  ]\n}"
            }
          },
          "metadata": {},
          "execution_count": 3
        }
      ]
    },
    {
      "cell_type": "markdown",
      "source": [
        "## ***preprocessing***"
      ],
      "metadata": {
        "id": "ldqN21FWBzih"
      }
    },
    {
      "cell_type": "code",
      "source": [
        "def clean_text(text):\n",
        "    stop_words=open(r'/content/drive/MyDrive/icon_task_2020/malayalam_stopwords.txt', encoding='utf=8').read().split('\\n')\n",
        "    text = re.sub('@[a-zA-Z0-9]*', '', str(text))\n",
        "    text = \"\".join([word for word in text if word not in string.punctuation])\n",
        "    text = \"\".join([word for word in text if not word.isdigit()])\n",
        "    tokens = re.split('\\s+',text)\n",
        "    text = \" \".join(word for word in tokens if word not in stop_words)          # here english words may lemmatize so kept lematization\n",
        "    return text"
      ],
      "metadata": {
        "id": "eTGtJvuLWq4b"
      },
      "execution_count": 2,
      "outputs": []
    },
    {
      "cell_type": "code",
      "source": [
        "data_train['clean'] = data_train['text'].apply(lambda x:clean_text(x))\n",
        "data_dev['clean'] = data_dev['text'].apply(lambda x:clean_text(x))\n",
        "data_test['clean'] = data_test['text'].apply(lambda x:clean_text(x))"
      ],
      "metadata": {
        "id": "6WpA8UGQX0UN"
      },
      "execution_count": 8,
      "outputs": []
    },
    {
      "cell_type": "code",
      "source": [
        "data_train.value_counts('label')"
      ],
      "metadata": {
        "colab": {
          "base_uri": "https://localhost:8080/",
          "height": 178
        },
        "id": "pfLTzweGW7Mi",
        "outputId": "46bce869-7f7b-4fa0-8d94-48c9e6a2d2c2"
      },
      "execution_count": 9,
      "outputs": [
        {
          "output_type": "execute_result",
          "data": {
            "text/plain": [
              "label\n",
              "original    1658\n",
              "Fake        1599\n",
              "Name: count, dtype: int64"
            ],
            "text/html": [
              "<div>\n",
              "<style scoped>\n",
              "    .dataframe tbody tr th:only-of-type {\n",
              "        vertical-align: middle;\n",
              "    }\n",
              "\n",
              "    .dataframe tbody tr th {\n",
              "        vertical-align: top;\n",
              "    }\n",
              "\n",
              "    .dataframe thead th {\n",
              "        text-align: right;\n",
              "    }\n",
              "</style>\n",
              "<table border=\"1\" class=\"dataframe\">\n",
              "  <thead>\n",
              "    <tr style=\"text-align: right;\">\n",
              "      <th></th>\n",
              "      <th>count</th>\n",
              "    </tr>\n",
              "    <tr>\n",
              "      <th>label</th>\n",
              "      <th></th>\n",
              "    </tr>\n",
              "  </thead>\n",
              "  <tbody>\n",
              "    <tr>\n",
              "      <th>original</th>\n",
              "      <td>1658</td>\n",
              "    </tr>\n",
              "    <tr>\n",
              "      <th>Fake</th>\n",
              "      <td>1599</td>\n",
              "    </tr>\n",
              "  </tbody>\n",
              "</table>\n",
              "</div><br><label><b>dtype:</b> int64</label>"
            ]
          },
          "metadata": {},
          "execution_count": 9
        }
      ]
    },
    {
      "cell_type": "code",
      "source": [
        "data_dev.value_counts('label')"
      ],
      "metadata": {
        "colab": {
          "base_uri": "https://localhost:8080/",
          "height": 178
        },
        "id": "GJGdrykXXFaK",
        "outputId": "091dd433-13b9-4613-9bda-7968aeff7099"
      },
      "execution_count": 10,
      "outputs": [
        {
          "output_type": "execute_result",
          "data": {
            "text/plain": [
              "label\n",
              "original    409\n",
              "Fake        406\n",
              "Name: count, dtype: int64"
            ],
            "text/html": [
              "<div>\n",
              "<style scoped>\n",
              "    .dataframe tbody tr th:only-of-type {\n",
              "        vertical-align: middle;\n",
              "    }\n",
              "\n",
              "    .dataframe tbody tr th {\n",
              "        vertical-align: top;\n",
              "    }\n",
              "\n",
              "    .dataframe thead th {\n",
              "        text-align: right;\n",
              "    }\n",
              "</style>\n",
              "<table border=\"1\" class=\"dataframe\">\n",
              "  <thead>\n",
              "    <tr style=\"text-align: right;\">\n",
              "      <th></th>\n",
              "      <th>count</th>\n",
              "    </tr>\n",
              "    <tr>\n",
              "      <th>label</th>\n",
              "      <th></th>\n",
              "    </tr>\n",
              "  </thead>\n",
              "  <tbody>\n",
              "    <tr>\n",
              "      <th>original</th>\n",
              "      <td>409</td>\n",
              "    </tr>\n",
              "    <tr>\n",
              "      <th>Fake</th>\n",
              "      <td>406</td>\n",
              "    </tr>\n",
              "  </tbody>\n",
              "</table>\n",
              "</div><br><label><b>dtype:</b> int64</label>"
            ]
          },
          "metadata": {},
          "execution_count": 10
        }
      ]
    },
    {
      "cell_type": "code",
      "source": [
        "X_train=data_train['clean']\n",
        "X_dev=data_dev['clean']\n",
        "X_test= data_test['clean']\n",
        "\n",
        "X_train=X_train.tolist()\n",
        "X_dev=X_dev.tolist()\n",
        "X_test=X_test.tolist()"
      ],
      "metadata": {
        "id": "ILZFHSrwYH1E"
      },
      "execution_count": 12,
      "outputs": []
    },
    {
      "source": [
        "\n",
        "\n",
        "vocabulary_size = 30000  #\n",
        "tokenizer = Tokenizer(num_words= vocabulary_size)\n",
        "tokenizer.fit_on_texts(X_train)\n",
        "sequences = tokenizer.texts_to_sequences(X_train)\n",
        "X_train1 = pad_sequences(sequences, maxlen=100)\n",
        "sequences = tokenizer.texts_to_sequences(X_dev)\n",
        "X_test1 = pad_sequences(sequences, maxlen=100)\n",
        "\n",
        "sequences = tokenizer.texts_to_sequences(X_test)\n",
        "X_test_witout= pad_sequences(sequences, maxlen=100)"
      ],
      "cell_type": "code",
      "metadata": {
        "id": "VGgdjcmPYfQj"
      },
      "execution_count": 13,
      "outputs": []
    },
    {
      "cell_type": "markdown",
      "source": [
        "**Label Encoding**"
      ],
      "metadata": {
        "id": "hj6PYLKACgND"
      }
    },
    {
      "cell_type": "code",
      "source": [
        "y_train_sent=data_train['label']\n",
        "#y_train=data_train['label']\n",
        "y_test_sent=data_dev['label']\n",
        "y = pd.get_dummies(data_train['label']).values\n",
        "\n",
        "\n",
        "y_train1=pd.get_dummies(y_train_sent).values                                #get_dummies() is used for data manipulation. It converts categorical data into dummy or indicator variables.\n",
        "y_test1=pd.get_dummies(y_test_sent).values\n",
        "diz_label1 = {}\n",
        "for i,label in enumerate(data_train.label.factorize()[1]):             #enumerate() allows us to iterate through a sequence but it keeps track of both the index and the element\n",
        "    diz_label1[i] = label\n",
        "\n",
        "diz_label1\n",
        "\n",
        "\n",
        "\n"
      ],
      "metadata": {
        "colab": {
          "base_uri": "https://localhost:8080/"
        },
        "id": "DGF-rPxeYdez",
        "outputId": "65103465-ae7a-46fc-a5a7-a4cfae39e0fb"
      },
      "execution_count": 14,
      "outputs": [
        {
          "output_type": "execute_result",
          "data": {
            "text/plain": [
              "{0: 'Fake', 1: 'original'}"
            ]
          },
          "metadata": {},
          "execution_count": 14
        }
      ]
    },
    {
      "cell_type": "markdown",
      "source": [
        "**FastText Embedding**"
      ],
      "metadata": {
        "id": "6CSPO2nrClyZ"
      }
    },
    {
      "cell_type": "code",
      "source": [
        "#Convertin\n",
        "embeddings_index = {}\n",
        "with open(\"/content/drive/MyDrive/icon_task_2020/wiki.ml.vec\",encoding=\"utf8\") as f:\n",
        "    for line in f:\n",
        "        word, coefs = line.split(maxsplit=1)\n",
        "        coefs = np.fromstring(coefs, \"f\", sep=\" \")\n",
        "        embeddings_index[word] = coefs\n",
        "\n",
        "print(\"Found %s word vectors.\" % len(embeddings_index))"
      ],
      "metadata": {
        "colab": {
          "base_uri": "https://localhost:8080/"
        },
        "id": "tAirhFYSY5WT",
        "outputId": "7625a5f6-5b58-4ea5-bb8f-78b824b8e596"
      },
      "execution_count": 15,
      "outputs": [
        {
          "output_type": "stream",
          "name": "stderr",
          "text": [
            "<ipython-input-15-cdc48852e23e>:6: DeprecationWarning: string or file could not be read to its end due to unmatched data; this will raise a ValueError in the future.\n",
            "  coefs = np.fromstring(coefs, \"f\", sep=\" \")\n"
          ]
        },
        {
          "output_type": "stream",
          "name": "stdout",
          "text": [
            "Found 189665 word vectors.\n"
          ]
        }
      ]
    },
    {
      "cell_type": "code",
      "source": [
        "VOCAB_SIZE = len(tokenizer.word_index) + 2\n",
        "EMBEDDING_DIM = 300\n",
        "hits = 0\n",
        "misses =0\n",
        "\n",
        "# Prepare embedding matrix\n",
        "embedding_matrix = np.zeros((VOCAB_SIZE, EMBEDDING_DIM))\n",
        "for word, i in tokenizer.word_index.items():\n",
        "    embedding_vector = embeddings_index.get(word)\n",
        "    if embedding_vector is not None:\n",
        "        embedding_matrix[i] = embedding_vector\n",
        "        hits += 1\n",
        "    else:\n",
        "        # Words not found in embedding index will be all-zeros.\n",
        "        # This includes the representation for \"padding\" and \"OOV\"\n",
        "        misses += 1\n",
        "\n",
        "print(\"Converted %d words (%d misses)\" % (hits, misses))"
      ],
      "metadata": {
        "colab": {
          "base_uri": "https://localhost:8080/"
        },
        "id": "e6iQcXh1ZzRL",
        "outputId": "499b80e1-758a-4611-b274-62af88f96eca"
      },
      "execution_count": 16,
      "outputs": [
        {
          "output_type": "stream",
          "name": "stdout",
          "text": [
            "Converted 7048 words (10158 misses)\n"
          ]
        }
      ]
    },
    {
      "cell_type": "markdown",
      "source": [
        "Bi-RNN Model"
      ],
      "metadata": {
        "id": "uTAmuTspsA2c"
      }
    },
    {
      "source": [
        "def create_birnn_model(X_train1, embedding_matrix, VOCAB_SIZE, EMBEDDING_DIM):\n",
        "    #Input Layer is defined within tensorflow.keras.layers. We import it above.\n",
        "    input_layer = Input(shape=(X_train1.shape[1],), name=\"Input_layer\")\n",
        "    embedding_layer = Embedding(VOCAB_SIZE, EMBEDDING_DIM, weights=[embedding_matrix],\n",
        "                                trainable=True, input_length=X_train1.shape[1],\n",
        "                                name=\"Embedding_layer\")(input_layer)\n",
        "    rnn_layer = Bidirectional(SimpleRNN(128))(embedding_layer)\n",
        "    dense_layer = Dense(128, activation='relu')(rnn_layer)\n",
        "    output_layer = Dense(2, activation='sigmoid')(dense_layer)  # Modified output layer\n",
        "    model = Model(inputs=input_layer, outputs=output_layer)\n",
        "    model.compile(loss='binary_crossentropy', optimizer='adam', metrics=['accuracy'])  # Optional: Change loss function\n",
        "    return model"
      ],
      "cell_type": "code",
      "metadata": {
        "id": "1JEHG8I55Q8l"
      },
      "execution_count": 20,
      "outputs": []
    },
    {
      "cell_type": "code",
      "source": [
        "birnn_model = create_birnn_model(X_train1, embedding_matrix, VOCAB_SIZE, EMBEDDING_DIM)"
      ],
      "metadata": {
        "id": "RE0uH4gfZSUS",
        "colab": {
          "base_uri": "https://localhost:8080/"
        },
        "outputId": "65cdf5b5-d359-45c0-8a80-da21a38bbe92"
      },
      "execution_count": 21,
      "outputs": [
        {
          "output_type": "stream",
          "name": "stderr",
          "text": [
            "/usr/local/lib/python3.11/dist-packages/keras/src/layers/core/embedding.py:90: UserWarning: Argument `input_length` is deprecated. Just remove it.\n",
            "  warnings.warn(\n"
          ]
        }
      ]
    },
    {
      "source": [
        " #Import EarlyStopping from tensorflow.keras.callbacks\n",
        "birnn_model_history = birnn_model.fit(X_train1, y_train1, epochs=40, batch_size=225,validation_split=0.1,callbacks=[EarlyStopping(monitor='val_loss', patience=3, min_delta=0.0001)])"
      ],
      "cell_type": "code",
      "metadata": {
        "colab": {
          "base_uri": "https://localhost:8080/"
        },
        "id": "VZ6mUBhsr4yW",
        "outputId": "8898aa3e-e942-4e2d-f357-2077a779a24b"
      },
      "execution_count": 23,
      "outputs": [
        {
          "output_type": "stream",
          "name": "stdout",
          "text": [
            "Epoch 1/40\n",
            "\u001b[1m14/14\u001b[0m \u001b[32m━━━━━━━━━━━━━━━━━━━━\u001b[0m\u001b[37m\u001b[0m \u001b[1m25s\u001b[0m 1s/step - accuracy: 0.6037 - loss: 0.6640 - val_accuracy: 0.6380 - val_loss: 0.6674\n",
            "Epoch 2/40\n",
            "\u001b[1m14/14\u001b[0m \u001b[32m━━━━━━━━━━━━━━━━━━━━\u001b[0m\u001b[37m\u001b[0m \u001b[1m18s\u001b[0m 911ms/step - accuracy: 0.7552 - loss: 0.5341 - val_accuracy: 0.6687 - val_loss: 0.5989\n",
            "Epoch 3/40\n",
            "\u001b[1m14/14\u001b[0m \u001b[32m━━━━━━━━━━━━━━━━━━━━\u001b[0m\u001b[37m\u001b[0m \u001b[1m21s\u001b[0m 931ms/step - accuracy: 0.7632 - loss: 0.5016 - val_accuracy: 0.5828 - val_loss: 0.7052\n",
            "Epoch 4/40\n",
            "\u001b[1m14/14\u001b[0m \u001b[32m━━━━━━━━━━━━━━━━━━━━\u001b[0m\u001b[37m\u001b[0m \u001b[1m21s\u001b[0m 877ms/step - accuracy: 0.7472 - loss: 0.5178 - val_accuracy: 0.5890 - val_loss: 0.6980\n",
            "Epoch 5/40\n",
            "\u001b[1m14/14\u001b[0m \u001b[32m━━━━━━━━━━━━━━━━━━━━\u001b[0m\u001b[37m\u001b[0m \u001b[1m17s\u001b[0m 659ms/step - accuracy: 0.8520 - loss: 0.3517 - val_accuracy: 0.6166 - val_loss: 0.7352\n"
          ]
        }
      ]
    },
    {
      "cell_type": "code",
      "source": [
        "pred_birnn = birnn_model.predict(X_test1)"
      ],
      "metadata": {
        "colab": {
          "base_uri": "https://localhost:8080/"
        },
        "id": "TTfoJDkGcuuS",
        "outputId": "6dd6d798-6a5e-4955-c115-a4e9049851be"
      },
      "execution_count": 24,
      "outputs": [
        {
          "output_type": "stream",
          "name": "stdout",
          "text": [
            "\u001b[1m26/26\u001b[0m \u001b[32m━━━━━━━━━━━━━━━━━━━━\u001b[0m\u001b[37m\u001b[0m \u001b[1m1s\u001b[0m 40ms/step\n"
          ]
        }
      ]
    },
    {
      "cell_type": "code",
      "source": [
        "print(classification_report(np.argmax(y_test1,axis=1),np.argmax(pred_birnn,axis=1)))"
      ],
      "metadata": {
        "colab": {
          "base_uri": "https://localhost:8080/"
        },
        "id": "61ED7lcOc2Cz",
        "outputId": "53805e20-0e9d-4cb8-db73-76a6d5044dbc"
      },
      "execution_count": 25,
      "outputs": [
        {
          "output_type": "stream",
          "name": "stdout",
          "text": [
            "              precision    recall  f1-score   support\n",
            "\n",
            "           0       0.71      0.64      0.67       406\n",
            "           1       0.67      0.74      0.71       409\n",
            "\n",
            "    accuracy                           0.69       815\n",
            "   macro avg       0.69      0.69      0.69       815\n",
            "weighted avg       0.69      0.69      0.69       815\n",
            "\n"
          ]
        }
      ]
    },
    {
      "cell_type": "markdown",
      "source": [
        "DNN"
      ],
      "metadata": {
        "id": "Jo5d4AIFsLpJ"
      }
    },
    {
      "source": [
        "import tensorflow as tf\n",
        "from tensorflow.keras.layers import Input, Embedding, Flatten, Dense, Dropout\n",
        "from tensorflow.keras.models import Model\n",
        "\n",
        "def create_dnn_model(X_train, embedding_matrix, VOCAB_SIZE, EMBEDDING_DIM):\n",
        "    input_layer = Input(shape=(X_train.shape[1],), name=\"Input_layer\")\n",
        "    embedding_layer = Embedding(VOCAB_SIZE, EMBEDDING_DIM, weights=[embedding_matrix],\n",
        "                                trainable=True, input_length=X_train.shape[1],\n",
        "                                name=\"Embedding_layer\")(input_layer)\n",
        "    flatten_layer = Flatten()(embedding_layer)  # Flatten the embedding output\n",
        "    dense_layer1 = Dense(256, activation='relu')(flatten_layer)  # First hidden layer\n",
        "    dropout_layer = Dropout(0.5)(dense_layer1)  # Dropout for regularization\n",
        "    dense_layer2 = Dense(128, activation='relu')(dropout_layer)  # Second hidden layer\n",
        "    output_layer = Dense(2, activation='sigmoid')(dense_layer2)  # Output layer with sigmoid for binary classification\n",
        "    model = Model(inputs=input_layer, outputs=output_layer)\n",
        "    model.compile(loss='binary_crossentropy', optimizer='adam', metrics=['accuracy'])  # Compile with appropriate loss and metrics\n",
        "    return model"
      ],
      "cell_type": "code",
      "metadata": {
        "id": "V25jtmt2fb3n"
      },
      "execution_count": 26,
      "outputs": []
    },
    {
      "cell_type": "code",
      "source": [
        "dnn_model = create_dnn_model(X_train1, embedding_matrix, VOCAB_SIZE, EMBEDDING_DIM)"
      ],
      "metadata": {
        "id": "q_rvrss7fiPT",
        "colab": {
          "base_uri": "https://localhost:8080/"
        },
        "outputId": "f917c773-ae20-4166-c826-39f21498c678"
      },
      "execution_count": 27,
      "outputs": [
        {
          "output_type": "stream",
          "name": "stderr",
          "text": [
            "/usr/local/lib/python3.11/dist-packages/keras/src/layers/core/embedding.py:90: UserWarning: Argument `input_length` is deprecated. Just remove it.\n",
            "  warnings.warn(\n"
          ]
        }
      ]
    },
    {
      "cell_type": "code",
      "source": [
        "dnn_model_history = dnn_model.fit(X_train1, y_train1, epochs=100, batch_size=225,validation_split=0.1,callbacks=[EarlyStopping(monitor='val_loss', patience=3, min_delta=0.0001)])"
      ],
      "metadata": {
        "colab": {
          "base_uri": "https://localhost:8080/"
        },
        "id": "_0rFlFvUfXbq",
        "outputId": "fc406ea3-4f5e-44b0-c1d7-f6fe1fd51280"
      },
      "execution_count": 28,
      "outputs": [
        {
          "output_type": "stream",
          "name": "stdout",
          "text": [
            "Epoch 1/100\n",
            "\u001b[1m14/14\u001b[0m \u001b[32m━━━━━━━━━━━━━━━━━━━━\u001b[0m\u001b[37m\u001b[0m \u001b[1m18s\u001b[0m 792ms/step - accuracy: 0.5631 - loss: 0.6782 - val_accuracy: 0.6564 - val_loss: 0.6318\n",
            "Epoch 2/100\n",
            "\u001b[1m14/14\u001b[0m \u001b[32m━━━━━━━━━━━━━━━━━━━━\u001b[0m\u001b[37m\u001b[0m \u001b[1m10s\u001b[0m 636ms/step - accuracy: 0.7466 - loss: 0.5600 - val_accuracy: 0.6810 - val_loss: 0.6304\n",
            "Epoch 3/100\n",
            "\u001b[1m14/14\u001b[0m \u001b[32m━━━━━━━━━━━━━━━━━━━━\u001b[0m\u001b[37m\u001b[0m \u001b[1m10s\u001b[0m 730ms/step - accuracy: 0.8188 - loss: 0.4045 - val_accuracy: 0.6871 - val_loss: 0.5897\n",
            "Epoch 4/100\n",
            "\u001b[1m14/14\u001b[0m \u001b[32m━━━━━━━━━━━━━━━━━━━━\u001b[0m\u001b[37m\u001b[0m \u001b[1m10s\u001b[0m 689ms/step - accuracy: 0.9148 - loss: 0.2258 - val_accuracy: 0.7086 - val_loss: 0.6436\n",
            "Epoch 5/100\n",
            "\u001b[1m14/14\u001b[0m \u001b[32m━━━━━━━━━━━━━━━━━━━━\u001b[0m\u001b[37m\u001b[0m \u001b[1m10s\u001b[0m 674ms/step - accuracy: 0.9678 - loss: 0.1166 - val_accuracy: 0.6779 - val_loss: 0.7683\n",
            "Epoch 6/100\n",
            "\u001b[1m14/14\u001b[0m \u001b[32m━━━━━━━━━━━━━━━━━━━━\u001b[0m\u001b[37m\u001b[0m \u001b[1m11s\u001b[0m 788ms/step - accuracy: 0.9873 - loss: 0.0495 - val_accuracy: 0.6933 - val_loss: 0.9758\n"
          ]
        }
      ]
    },
    {
      "cell_type": "code",
      "source": [
        "#predictions on Dev\n",
        "pred_dnn = dnn_model.predict(X_test1) # Predict using the created model"
      ],
      "metadata": {
        "colab": {
          "base_uri": "https://localhost:8080/"
        },
        "id": "v2UoBVjreLj7",
        "outputId": "4c294601-895f-4fe9-c452-1a9922810c03"
      },
      "execution_count": 29,
      "outputs": [
        {
          "output_type": "stream",
          "name": "stdout",
          "text": [
            "\u001b[1m26/26\u001b[0m \u001b[32m━━━━━━━━━━━━━━━━━━━━\u001b[0m\u001b[37m\u001b[0m \u001b[1m2s\u001b[0m 49ms/step\n"
          ]
        }
      ]
    },
    {
      "cell_type": "code",
      "source": [
        "# Prediction on Test\n",
        "pred_dnn = dnn_model.predict(X_test_witout) # Predict using the created model"
      ],
      "metadata": {
        "colab": {
          "base_uri": "https://localhost:8080/"
        },
        "id": "yq2EzNbbgVQT",
        "outputId": "fc125a44-a0c1-428b-9159-1e6fe85a6241"
      },
      "execution_count": 30,
      "outputs": [
        {
          "output_type": "stream",
          "name": "stdout",
          "text": [
            "\u001b[1m32/32\u001b[0m \u001b[32m━━━━━━━━━━━━━━━━━━━━\u001b[0m\u001b[37m\u001b[0m \u001b[1m1s\u001b[0m 19ms/step\n"
          ]
        }
      ]
    },
    {
      "cell_type": "code",
      "source": [
        "# pred_lr=model_lr.predict(X_test_witout)\n"
      ],
      "metadata": {
        "colab": {
          "base_uri": "https://localhost:8080/"
        },
        "id": "OSjmEz_EqAY5",
        "outputId": "ebbc0d8a-e656-4bd3-8b4d-1b9a5f92e00d"
      },
      "execution_count": null,
      "outputs": [
        {
          "output_type": "stream",
          "name": "stdout",
          "text": [
            "\u001b[1m32/32\u001b[0m \u001b[32m━━━━━━━━━━━━━━━━━━━━\u001b[0m\u001b[37m\u001b[0m \u001b[1m3s\u001b[0m 81ms/step\n"
          ]
        }
      ]
    },
    {
      "source": [
        "from tensorflow.keras.models import Sequential # Import the Sequential class from Keras\n",
        "from tensorflow.keras.layers import LSTM # Import the LSTM layer\n",
        "\n",
        "model = Sequential()\n",
        "model.add(Embedding(VOCAB_SIZE, EMBEDDING_DIM, weights=[embedding_matrix], trainable=True))\n",
        "model.add(LSTM(128, return_sequences=True))  # LSTM layer with return_sequences=True\n",
        "model.add(SimpleRNN(64))  # RNN layer after LSTM\n",
        "model.add(Dense(2, activation='sigmoid'))  # Output layer for binary classification"
      ],
      "cell_type": "code",
      "metadata": {
        "id": "AwzWLQ4VPqLr"
      },
      "execution_count": 31,
      "outputs": []
    },
    {
      "source": [
        "def GRU_model(X_train1, embedding_matrix, VOCAB_SIZE, EMBEDDING_DIM):\n",
        "    Input_layer = Input(shape=(X_train1.shape[1],), name=\"Input_layer\")\n",
        "    Embedding_layer = Embedding(VOCAB_SIZE, EMBEDDING_DIM, weights=[embedding_matrix], trainable=True,\n",
        "                                input_length=X_train1.shape[1], name=\"Embedding_layer\")(Input_layer)\n",
        "    GRU_layer1 = GRU(128, return_sequences=False, dropout=0.2)(Embedding_layer) # Changed return_sequences to False\n",
        "    Dense_layer1 = Dense(128, activation='relu', name=\"Dense_layer1a\")(GRU_layer1)\n",
        "    predictions_task1 = Dense(2, activation='sigmoid', name=\"predictions_task1\")(Dense_layer1)  # Binary classification output layer\n",
        "    model = tf.keras.models.Model(Input_layer, predictions_task1)\n",
        "\n",
        "    model.compile(loss='binary_crossentropy', optimizer=tf.keras.optimizers.RMSprop(learning_rate=0.001), metrics=['accuracy'])  # Compile with binary_crossentropy\n",
        "    return model"
      ],
      "cell_type": "code",
      "metadata": {
        "id": "XtsG4_VegM-6"
      },
      "execution_count": 39,
      "outputs": []
    },
    {
      "source": [
        "def GRU_model(X_train1, embedding_matrix, VOCAB_SIZE, EMBEDDING_DIM):\n",
        "    Input_layer = Input(shape=(X_train1.shape[1],), name=\"Input_layer\")\n",
        "    Embedding_layer = Embedding(VOCAB_SIZE, EMBEDDING_DIM, weights=[embedding_matrix], trainable=True,\n",
        "                                input_length=X_train1.shape[1], name=\"Embedding_layer\")(Input_layer)\n",
        "    GRU_layer1 = GRU(128, return_sequences=False, dropout=0.2)(Embedding_layer)\n",
        "    Dense_layer1 = Dense(128, activation='relu', name=\"Dense_layer1a\")(GRU_layer1)\n",
        "    predictions_task1 = Dense(2, activation='sigmoid', name=\"predictions_task1\")(Dense_layer1)\n",
        "    model = tf.keras.models.Model(Input_layer, predictions_task1)\n",
        "\n",
        "    model.compile(loss='binary_crossentropy', optimizer=tf.keras.optimizers.RMSprop(learning_rate=0.001), metrics=['accuracy'])\n",
        "    return model\n"
      ],
      "cell_type": "code",
      "metadata": {
        "id": "QeLtZFRBuhaW"
      },
      "execution_count": 40,
      "outputs": []
    },
    {
      "source": [
        "gru_model = GRU_model(X_train1, embedding_matrix, VOCAB_SIZE, EMBEDDING_DIM)\n",
        "gru_model_history = gru_model.fit(X_train1, y_train1, epochs=40, batch_size=225,\n",
        "                                 validation_split=0.1,\n",
        "                                 callbacks=[EarlyStopping(monitor='val_loss', patience=3, min_delta=0.0001)])\n",
        "\n",
        "pred_gru = gru_model.predict(X_test1)\n",
        "\n",
        "print(classification_report(np.argmax(y_test1, axis=1), np.argmax(pred_gru, axis=1)))"
      ],
      "cell_type": "code",
      "metadata": {
        "colab": {
          "base_uri": "https://localhost:8080/"
        },
        "id": "PBG24cS6gs-y",
        "outputId": "8a1374ad-75af-4c0e-96b1-978d34e255b1"
      },
      "execution_count": 42,
      "outputs": [
        {
          "output_type": "stream",
          "name": "stderr",
          "text": [
            "/usr/local/lib/python3.11/dist-packages/keras/src/layers/core/embedding.py:90: UserWarning: Argument `input_length` is deprecated. Just remove it.\n",
            "  warnings.warn(\n"
          ]
        },
        {
          "output_type": "stream",
          "name": "stdout",
          "text": [
            "Epoch 1/40\n",
            "\u001b[1m14/14\u001b[0m \u001b[32m━━━━━━━━━━━━━━━━━━━━\u001b[0m\u001b[37m\u001b[0m \u001b[1m24s\u001b[0m 1s/step - accuracy: 0.5716 - loss: 0.6716 - val_accuracy: 0.6043 - val_loss: 0.6585\n",
            "Epoch 2/40\n",
            "\u001b[1m14/14\u001b[0m \u001b[32m━━━━━━━━━━━━━━━━━━━━\u001b[0m\u001b[37m\u001b[0m \u001b[1m21s\u001b[0m 1s/step - accuracy: 0.6681 - loss: 0.6063 - val_accuracy: 0.6503 - val_loss: 0.6898\n",
            "Epoch 3/40\n",
            "\u001b[1m14/14\u001b[0m \u001b[32m━━━━━━━━━━━━━━━━━━━━\u001b[0m\u001b[37m\u001b[0m \u001b[1m37s\u001b[0m 1s/step - accuracy: 0.7238 - loss: 0.5586 - val_accuracy: 0.6595 - val_loss: 0.6583\n",
            "Epoch 4/40\n",
            "\u001b[1m14/14\u001b[0m \u001b[32m━━━━━━━━━━━━━━━━━━━━\u001b[0m\u001b[37m\u001b[0m \u001b[1m19s\u001b[0m 1s/step - accuracy: 0.7506 - loss: 0.5164 - val_accuracy: 0.6779 - val_loss: 0.6028\n",
            "Epoch 5/40\n",
            "\u001b[1m14/14\u001b[0m \u001b[32m━━━━━━━━━━━━━━━━━━━━\u001b[0m\u001b[37m\u001b[0m \u001b[1m21s\u001b[0m 1s/step - accuracy: 0.7829 - loss: 0.4709 - val_accuracy: 0.7178 - val_loss: 0.6735\n",
            "Epoch 6/40\n",
            "\u001b[1m14/14\u001b[0m \u001b[32m━━━━━━━━━━━━━━━━━━━━\u001b[0m\u001b[37m\u001b[0m \u001b[1m25s\u001b[0m 1s/step - accuracy: 0.8019 - loss: 0.4366 - val_accuracy: 0.7117 - val_loss: 0.7652\n",
            "Epoch 7/40\n",
            "\u001b[1m14/14\u001b[0m \u001b[32m━━━━━━━━━━━━━━━━━━━━\u001b[0m\u001b[37m\u001b[0m \u001b[1m33s\u001b[0m 948ms/step - accuracy: 0.8024 - loss: 0.4482 - val_accuracy: 0.7270 - val_loss: 0.5366\n",
            "Epoch 8/40\n",
            "\u001b[1m14/14\u001b[0m \u001b[32m━━━━━━━━━━━━━━━━━━━━\u001b[0m\u001b[37m\u001b[0m \u001b[1m20s\u001b[0m 878ms/step - accuracy: 0.8322 - loss: 0.3870 - val_accuracy: 0.6963 - val_loss: 0.5692\n",
            "Epoch 9/40\n",
            "\u001b[1m14/14\u001b[0m \u001b[32m━━━━━━━━━━━━━━━━━━━━\u001b[0m\u001b[37m\u001b[0m \u001b[1m21s\u001b[0m 915ms/step - accuracy: 0.8586 - loss: 0.3517 - val_accuracy: 0.6288 - val_loss: 0.7258\n",
            "Epoch 10/40\n",
            "\u001b[1m14/14\u001b[0m \u001b[32m━━━━━━━━━━━━━━━━━━━━\u001b[0m\u001b[37m\u001b[0m \u001b[1m13s\u001b[0m 906ms/step - accuracy: 0.8529 - loss: 0.3723 - val_accuracy: 0.7270 - val_loss: 0.6845\n",
            "\u001b[1m26/26\u001b[0m \u001b[32m━━━━━━━━━━━━━━━━━━━━\u001b[0m\u001b[37m\u001b[0m \u001b[1m2s\u001b[0m 70ms/step\n",
            "              precision    recall  f1-score   support\n",
            "\n",
            "           0       0.90      0.58      0.70       406\n",
            "           1       0.69      0.94      0.79       409\n",
            "\n",
            "    accuracy                           0.76       815\n",
            "   macro avg       0.80      0.76      0.75       815\n",
            "weighted avg       0.79      0.76      0.75       815\n",
            "\n"
          ]
        }
      ]
    },
    {
      "cell_type": "code",
      "source": [
        "# pred_gru = gru_model.predict(X_test_witout)\n"
      ],
      "metadata": {
        "id": "NcO5KXg1vW7A"
      },
      "execution_count": 43,
      "outputs": []
    },
    {
      "cell_type": "markdown",
      "source": [
        "**Fusion Model**"
      ],
      "metadata": {
        "id": "aVMJ8FPqvb9I"
      }
    },
    {
      "source": [
        "# val_accuracy_birnn = birnn_model_history.history['val_accuracy'][-1] # Get the last value of validation accuracy\n",
        "# val_accuracy_dnn = dnn_model_history.history['val_accuracy'][-1]\n",
        "# val_accuracy_gru = gru_model_history.history['val_accuracy'][-1]\n",
        "\n",
        "# total_accuracy = val_accuracy_birnn + val_accuracy_dnn + val_accuracy_gru + val_accuracy_lstm_rnn\n",
        "# weight_birnn = val_accuracy_birnn / total_accuracy\n",
        "# weight_dnn = val_accuracy_dnn / total_accuracy\n",
        "# weight_gru = val_accuracy_gru / total_accuracy\n",
        "\n",
        "# weight_lstm_rnn = val_accuracy_lstm_rnn / total_accuracy  # Weight for LSTM + RNN\n",
        "# print(f\"BiRNN Weight: {weight_birnn}\")\n",
        "# print(f\"DNN Weight: {weight_dnn}\")\n",
        "# print(f\"GRU Weight: {weight_gru}\")\n",
        "# print(f\"LSTM + RNN Weight: {weight_lstm_rnn}\")"
      ],
      "cell_type": "code",
      "metadata": {
        "id": "TF-zsG7zw9e-"
      },
      "execution_count": 77,
      "outputs": []
    },
    {
      "source": [
        "# val_accuracy_birnn = birnn_model_history.history['val_accuracy'][-1] # Get the last value of validation accuracy\n",
        "# val_accuracy_dnn = dnn_model_history.history['val_accuracy'][-1]\n",
        "# val_accuracy_gru = gru_model_history.history['val_accuracy'][-1]\n",
        "\n",
        "# total_accuracy = val_accuracy_birnn + val_accuracy_dnn + val_accuracy_gru + val_accuracy_lstm_rnn\n",
        "# weight_birnn = val_accuracy_birnn / total_accuracy\n",
        "# weight_dnn = val_accuracy_dnn / total_accuracy\n",
        "# weight_gru = val_accuracy_gru / total_accuracy\n",
        "\n",
        "# weight_lstm_rnn = val_accuracy_lstm_rnn / total_accuracy  # Weight for LSTM + RNN\n",
        "# print(f\"BiRNN Weight: {weight_birnn}\")\n",
        "# print(f\"DNN Weight: {weight_dnn}\")\n",
        "# print(f\"GRU Weight: {weight_gru}\")\n",
        "# print(f\"LSTM + RNN Weight: {weight_lstm_rnn}\")"
      ],
      "cell_type": "code",
      "metadata": {
        "id": "vhMl49iejs0Z"
      },
      "execution_count": 76,
      "outputs": []
    },
    {
      "source": [
        "from tensorflow.keras.callbacks import EarlyStopping\n",
        "model.compile(loss='binary_crossentropy', optimizer='adam', metrics=['accuracy']) # Compile the model\n",
        "history = model.fit(X_train1, y_train1, epochs=40, batch_size=225, validation_split=0.1,\n",
        "                    callbacks=[EarlyStopping(monitor='val_loss', patience=3, min_delta=0.0001)])\n",
        "\n",
        "val_accuracy_lstm_rnn = history.history['val_accuracy'][-1]\n",
        "\n",
        "# Rest of your code for calculating weights and ensemble predictions\n",
        "total_accuracy = val_accuracy_birnn + val_accuracy_dnn + val_accuracy_gru + val_accuracy_lstm_rnn\n",
        "weight_birnn = val_accuracy_birnn / total_accuracy\n",
        "weight_dnn = val_accuracy_dnn / total_accuracy\n",
        "weight_gru = val_accuracy_gru / total_accuracy\n",
        "\n",
        "weight_lstm_rnn = val_accuracy_lstm_rnn / total_accuracy  # Weight for LSTM + RNN\n",
        "print(f\"BiRNN Weight: {weight_birnn}\")\n",
        "print(f\"DNN Weight: {weight_dnn}\")\n",
        "print(f\"GRU Weight: {weight_gru}\")\n",
        "print(f\"LSTM + RNN Weight: {weight_lstm_rnn}\")"
      ],
      "cell_type": "code",
      "metadata": {
        "colab": {
          "base_uri": "https://localhost:8080/"
        },
        "id": "G2Y4J-uFxxOX",
        "outputId": "7ee9c6bd-6354-48e0-cac8-49bf5a069280"
      },
      "execution_count": 53,
      "outputs": [
        {
          "output_type": "stream",
          "name": "stdout",
          "text": [
            "Epoch 1/40\n",
            "\u001b[1m14/14\u001b[0m \u001b[32m━━━━━━━━━━━━━━━━━━━━\u001b[0m\u001b[37m\u001b[0m \u001b[1m29s\u001b[0m 1s/step - accuracy: 0.6054 - loss: 0.6546 - val_accuracy: 0.6718 - val_loss: 0.5958\n",
            "Epoch 2/40\n",
            "\u001b[1m14/14\u001b[0m \u001b[32m━━━━━━━━━━━━━━━━━━━━\u001b[0m\u001b[37m\u001b[0m \u001b[1m34s\u001b[0m 1s/step - accuracy: 0.7703 - loss: 0.5116 - val_accuracy: 0.6933 - val_loss: 0.5478\n",
            "Epoch 3/40\n",
            "\u001b[1m14/14\u001b[0m \u001b[32m━━━━━━━━━━━━━━━━━━━━\u001b[0m\u001b[37m\u001b[0m \u001b[1m20s\u001b[0m 947ms/step - accuracy: 0.8506 - loss: 0.3574 - val_accuracy: 0.7454 - val_loss: 0.4868\n",
            "Epoch 4/40\n",
            "\u001b[1m14/14\u001b[0m \u001b[32m━━━━━━━━━━━━━━━━━━━━\u001b[0m\u001b[37m\u001b[0m \u001b[1m21s\u001b[0m 1s/step - accuracy: 0.8863 - loss: 0.2672 - val_accuracy: 0.7270 - val_loss: 0.5112\n",
            "Epoch 5/40\n",
            "\u001b[1m14/14\u001b[0m \u001b[32m━━━━━━━━━━━━━━━━━━━━\u001b[0m\u001b[37m\u001b[0m \u001b[1m20s\u001b[0m 988ms/step - accuracy: 0.9423 - loss: 0.1660 - val_accuracy: 0.7607 - val_loss: 0.5373\n",
            "Epoch 6/40\n",
            "\u001b[1m14/14\u001b[0m \u001b[32m━━━━━━━━━━━━━━━━━━━━\u001b[0m\u001b[37m\u001b[0m \u001b[1m16s\u001b[0m 1s/step - accuracy: 0.9670 - loss: 0.1206 - val_accuracy: 0.7945 - val_loss: 0.5150\n",
            "BiRNN Weight: 0.21776813927144817\n",
            "DNN Weight: 0.24485374412940356\n",
            "GRU Weight: 0.2567713959514568\n",
            "LSTM + RNN Weight: 0.28060672064769143\n"
          ]
        }
      ]
    },
    {
      "source": [
        "# ipython-input-116-7ddd3cfe2736\n",
        "predicted_class_indices = decoded_predictions_en  # decoded_predictions_en already contains the predicted class indices\n",
        "decoded_labels_en = [diz_label1[index] for index in predicted_class_indices]"
      ],
      "cell_type": "code",
      "metadata": {
        "id": "x_Sah36QxEp0"
      },
      "execution_count": null,
      "outputs": []
    },
    {
      "cell_type": "code",
      "source": [
        "len(submission_df)"
      ],
      "metadata": {
        "colab": {
          "base_uri": "https://localhost:8080/"
        },
        "id": "vcTviZHjptfs",
        "outputId": "69a3cea5-92fc-4cbf-dc10-79082c16ba36"
      },
      "execution_count": null,
      "outputs": [
        {
          "output_type": "execute_result",
          "data": {
            "text/plain": [
              "1019"
            ]
          },
          "metadata": {},
          "execution_count": 98
        }
      ]
    },
    {
      "source": [
        "len(submission_df)"
      ],
      "cell_type": "code",
      "metadata": {
        "id": "JKn4nPXqUtSm",
        "colab": {
          "base_uri": "https://localhost:8080/"
        },
        "outputId": "3c613d91-4a3d-4caa-ccc3-f18358a43222"
      },
      "execution_count": null,
      "outputs": [
        {
          "output_type": "execute_result",
          "data": {
            "text/plain": [
              "1019"
            ]
          },
          "metadata": {},
          "execution_count": 74
        }
      ]
    },
    {
      "cell_type": "code",
      "source": [
        "print(classification_report(np.argmax(y_test1,axis=1),np.argmax(pred_dnn,axis=1)))"
      ],
      "metadata": {
        "colab": {
          "base_uri": "https://localhost:8080/"
        },
        "id": "ecRbPaJHfXhT",
        "outputId": "884b872b-2b1a-4295-83b3-183fcaf4e698"
      },
      "execution_count": null,
      "outputs": [
        {
          "output_type": "stream",
          "name": "stdout",
          "text": [
            "              precision    recall  f1-score   support\n",
            "\n",
            "           0       0.84      0.69      0.76       406\n",
            "           1       0.74      0.87      0.80       409\n",
            "\n",
            "    accuracy                           0.78       815\n",
            "   macro avg       0.79      0.78      0.78       815\n",
            "weighted avg       0.79      0.78      0.78       815\n",
            "\n"
          ]
        }
      ]
    },
    {
      "cell_type": "code",
      "source": [
        "len(submission_df)"
      ],
      "metadata": {
        "colab": {
          "base_uri": "https://localhost:8080/"
        },
        "id": "W45_RLAUV7i1",
        "outputId": "65d391a1-6131-45da-d0c1-b9fc950118b1"
      },
      "execution_count": null,
      "outputs": [
        {
          "output_type": "execute_result",
          "data": {
            "text/plain": [
              "1019"
            ]
          },
          "metadata": {},
          "execution_count": 106
        }
      ]
    },
    {
      "source": [
        "import tensorflow as tf\n",
        "from tensorflow.keras.layers import Input, Embedding, GRU, Dense\n",
        "from tensorflow.keras.models import Model"
      ],
      "cell_type": "code",
      "metadata": {
        "id": "9Mlmr5gqgK-q"
      },
      "execution_count": null,
      "outputs": []
    },
    {
      "cell_type": "code",
      "source": [],
      "metadata": {
        "colab": {
          "base_uri": "https://localhost:8080/"
        },
        "id": "911TdbV6g2Id",
        "outputId": "d4aa8f58-5e34-4df2-d3de-6dc9c680b490"
      },
      "execution_count": null,
      "outputs": [
        {
          "output_type": "stream",
          "name": "stdout",
          "text": [
            "\u001b[1m26/26\u001b[0m \u001b[32m━━━━━━━━━━━━━━━━━━━━\u001b[0m\u001b[37m\u001b[0m \u001b[1m2s\u001b[0m 73ms/step\n"
          ]
        }
      ]
    },
    {
      "cell_type": "code",
      "source": [],
      "metadata": {
        "colab": {
          "base_uri": "https://localhost:8080/"
        },
        "id": "aClVXCASWJ8I",
        "outputId": "fe327857-2134-4501-8916-a06128e2055d"
      },
      "execution_count": null,
      "outputs": [
        {
          "output_type": "stream",
          "name": "stdout",
          "text": [
            "\u001b[1m32/32\u001b[0m \u001b[32m━━━━━━━━━━━━━━━━━━━━\u001b[0m\u001b[37m\u001b[0m \u001b[1m2s\u001b[0m 61ms/step\n"
          ]
        }
      ]
    },
    {
      "cell_type": "code",
      "source": [],
      "metadata": {
        "colab": {
          "base_uri": "https://localhost:8080/"
        },
        "id": "nrU4M5cxggFz",
        "outputId": "cb9638a2-02e3-4883-c9af-9ec1e9595c94"
      },
      "execution_count": null,
      "outputs": [
        {
          "metadata": {
            "tags": null
          },
          "name": "stdout",
          "output_type": "stream",
          "text": [
            "              precision    recall  f1-score   support\n",
            "\n",
            "           0       0.94      0.42      0.58       406\n",
            "           1       0.63      0.97      0.76       409\n",
            "\n",
            "    accuracy                           0.70       815\n",
            "   macro avg       0.78      0.70      0.67       815\n",
            "weighted avg       0.78      0.70      0.67       815\n",
            "\n"
          ]
        }
      ]
    },
    {
      "source": [
        "val_accuracy_lstm_rnn = history.history['val_accuracy'][-1]\n",
        "print(f\"LSTM + RNN Validation Accuracy: {val_accuracy_lstm_rnn}\")"
      ],
      "cell_type": "code",
      "metadata": {
        "id": "DjllbyUBMuKK"
      },
      "execution_count": null,
      "outputs": []
    },
    {
      "source": [
        "pred_lstm_rnn = model.predict(X_test1) # Get predictions from LSTM + RNN\n",
        "ensemble_predictions = weight_birnn * pred_birnn + weight_dnn * pred_dnn + weight_gru * pred_gru + weight_lstm_rnn * pred_lstm_rnn\n",
        "final_predictions = np.argmax(ensemble_predictions, axis=1)"
      ],
      "cell_type": "code",
      "metadata": {
        "colab": {
          "base_uri": "https://localhost:8080/"
        },
        "id": "EZtjw0C8M5E6",
        "outputId": "9c2e1475-4e57-4407-f1cb-2983064319dc"
      },
      "execution_count": null,
      "outputs": [
        {
          "output_type": "stream",
          "name": "stdout",
          "text": [
            "\u001b[1m26/26\u001b[0m \u001b[32m━━━━━━━━━━━━━━━━━━━━\u001b[0m\u001b[37m\u001b[0m \u001b[1m3s\u001b[0m 100ms/step\n"
          ]
        }
      ]
    },
    {
      "source": [
        "# ... (Code for training birnn_model, dnn_model, and gru_model) ...\n",
        "\n",
        "# Extract validation accuracies from model histories\n",
        "val_accuracy_birnn = birnn_model_history.history['val_accuracy'][-1]\n",
        "val_accuracy_dnn = dnn_model_history.history['val_accuracy'][-1]\n",
        "val_accuracy_gru = gru_model_history.history['val_accuracy'][-1]\n",
        "\n",
        "# ... (Rest of your ensemble code) ...\n",
        "\n",
        "total_accuracy = val_accuracy_birnn + val_accuracy_dnn + val_accuracy_gru + val_accuracy_lstm_rnn\n",
        "\n",
        "# ... (Calculate weights and ensemble predictions) ..."
      ],
      "cell_type": "code",
      "metadata": {
        "id": "30u3pi1eLaqj"
      },
      "execution_count": null,
      "outputs": []
    },
    {
      "source": [
        "print(classification_report(np.argmax(y_test1,axis=1), final_predictions))"
      ],
      "cell_type": "code",
      "metadata": {
        "colab": {
          "base_uri": "https://localhost:8080/"
        },
        "id": "DuCHbFFdM7Mi",
        "outputId": "28178eab-9192-42d7-ea87-3a33171225f7"
      },
      "execution_count": null,
      "outputs": [
        {
          "output_type": "stream",
          "name": "stdout",
          "text": [
            "              precision    recall  f1-score   support\n",
            "\n",
            "           0       0.89      0.67      0.76       406\n",
            "           1       0.73      0.91      0.81       409\n",
            "\n",
            "    accuracy                           0.79       815\n",
            "   macro avg       0.81      0.79      0.79       815\n",
            "weighted avg       0.81      0.79      0.79       815\n",
            "\n"
          ]
        }
      ]
    },
    {
      "source": [
        "from tensorflow.keras.models import Sequential # Import the Sequential class from Keras\n",
        "from tensorflow.keras.layers import LSTM # Import the LSTM layer\n",
        "\n",
        "model_lr = Sequential()\n",
        "model_lr.add(Embedding(VOCAB_SIZE, EMBEDDING_DIM, weights=[embedding_matrix], trainable=True))\n",
        "model_lr.add(LSTM(128, return_sequences=True))  # LSTM layer with return_sequences=True\n",
        "model_lr.add(SimpleRNN(64))  # RNN layer after LSTM\n",
        "model_lr.add(Dense(2, activation='sigmoid'))  # Output layer for binary classification\n",
        "\n",
        "# Compile the model\n",
        "model_lr.compile(loss='binary_crossentropy', optimizer='adam', metrics=['accuracy'])\n",
        "\n",
        "# Fit the model and store the training history in 'history'\n",
        "history = model_lr.fit(X_train1, y_train1, epochs=40, batch_size=225, validation_split=0.1,\n",
        "                    callbacks=[EarlyStopping(monitor='val_loss', patience=3, min_delta=0.0001)])\n",
        "\n",
        "val_accuracy_lstm_rnn = history.history['val_accuracy'][-1]\n",
        "print(f\"LSTM + RNN Validation Accuracy: {val_accuracy_lstm_rnn}\")"
      ],
      "cell_type": "code",
      "metadata": {
        "colab": {
          "base_uri": "https://localhost:8080/"
        },
        "id": "Co0hXsC7Kvym",
        "outputId": "c1b6da45-7433-44a9-e513-a368b9536fea"
      },
      "execution_count": 54,
      "outputs": [
        {
          "output_type": "stream",
          "name": "stdout",
          "text": [
            "Epoch 1/40\n",
            "\u001b[1m14/14\u001b[0m \u001b[32m━━━━━━━━━━━━━━━━━━━━\u001b[0m\u001b[37m\u001b[0m \u001b[1m20s\u001b[0m 1s/step - accuracy: 0.5982 - loss: 0.6518 - val_accuracy: 0.6810 - val_loss: 0.6050\n",
            "Epoch 2/40\n",
            "\u001b[1m14/14\u001b[0m \u001b[32m━━━━━━━━━━━━━━━━━━━━\u001b[0m\u001b[37m\u001b[0m \u001b[1m14s\u001b[0m 1s/step - accuracy: 0.7636 - loss: 0.5043 - val_accuracy: 0.7117 - val_loss: 0.5758\n",
            "Epoch 3/40\n",
            "\u001b[1m14/14\u001b[0m \u001b[32m━━━━━━━━━━━━━━━━━━━━\u001b[0m\u001b[37m\u001b[0m \u001b[1m20s\u001b[0m 1s/step - accuracy: 0.8170 - loss: 0.4156 - val_accuracy: 0.7270 - val_loss: 0.5169\n",
            "Epoch 4/40\n",
            "\u001b[1m14/14\u001b[0m \u001b[32m━━━━━━━━━━━━━━━━━━━━\u001b[0m\u001b[37m\u001b[0m \u001b[1m21s\u001b[0m 1s/step - accuracy: 0.8920 - loss: 0.2696 - val_accuracy: 0.7607 - val_loss: 0.5507\n",
            "Epoch 5/40\n",
            "\u001b[1m14/14\u001b[0m \u001b[32m━━━━━━━━━━━━━━━━━━━━\u001b[0m\u001b[37m\u001b[0m \u001b[1m20s\u001b[0m 1s/step - accuracy: 0.9242 - loss: 0.2074 - val_accuracy: 0.7699 - val_loss: 0.5133\n",
            "Epoch 6/40\n",
            "\u001b[1m14/14\u001b[0m \u001b[32m━━━━━━━━━━━━━━━━━━━━\u001b[0m\u001b[37m\u001b[0m \u001b[1m20s\u001b[0m 1s/step - accuracy: 0.9657 - loss: 0.1217 - val_accuracy: 0.6840 - val_loss: 0.6322\n",
            "Epoch 7/40\n",
            "\u001b[1m14/14\u001b[0m \u001b[32m━━━━━━━━━━━━━━━━━━━━\u001b[0m\u001b[37m\u001b[0m \u001b[1m21s\u001b[0m 1s/step - accuracy: 0.9528 - loss: 0.1219 - val_accuracy: 0.7669 - val_loss: 0.5093\n",
            "Epoch 8/40\n",
            "\u001b[1m14/14\u001b[0m \u001b[32m━━━━━━━━━━━━━━━━━━━━\u001b[0m\u001b[37m\u001b[0m \u001b[1m20s\u001b[0m 1s/step - accuracy: 0.9904 - loss: 0.0627 - val_accuracy: 0.7853 - val_loss: 0.5412\n",
            "Epoch 9/40\n",
            "\u001b[1m14/14\u001b[0m \u001b[32m━━━━━━━━━━━━━━━━━━━━\u001b[0m\u001b[37m\u001b[0m \u001b[1m21s\u001b[0m 1s/step - accuracy: 0.9843 - loss: 0.0417 - val_accuracy: 0.7975 - val_loss: 0.5706\n",
            "Epoch 10/40\n",
            "\u001b[1m14/14\u001b[0m \u001b[32m━━━━━━━━━━━━━━━━━━━━\u001b[0m\u001b[37m\u001b[0m \u001b[1m21s\u001b[0m 1s/step - accuracy: 0.9967 - loss: 0.0224 - val_accuracy: 0.8067 - val_loss: 0.5725\n",
            "LSTM + RNN Validation Accuracy: 0.8067484498023987\n"
          ]
        }
      ]
    },
    {
      "source": [
        "model_lr.compile(loss='binary_crossentropy', optimizer='adam', metrics=['accuracy'])"
      ],
      "cell_type": "code",
      "metadata": {
        "id": "sECKWjbhN3m-"
      },
      "execution_count": 55,
      "outputs": []
    },
    {
      "source": [
        "history = model_lr.fit(X_train1, y_train1, epochs=40, batch_size=225,validation_split=0.1,callbacks=[EarlyStopping(monitor='val_loss', patience=3, min_delta=0.0001)])"
      ],
      "cell_type": "code",
      "metadata": {
        "colab": {
          "base_uri": "https://localhost:8080/"
        },
        "id": "iJlzzJA0N4VR",
        "outputId": "e6d3ae11-c4ad-475d-c41c-5514ed4f089d"
      },
      "execution_count": 56,
      "outputs": [
        {
          "output_type": "stream",
          "name": "stdout",
          "text": [
            "Epoch 1/40\n",
            "\u001b[1m14/14\u001b[0m \u001b[32m━━━━━━━━━━━━━━━━━━━━\u001b[0m\u001b[37m\u001b[0m \u001b[1m19s\u001b[0m 1s/step - accuracy: 0.9951 - loss: 0.0209 - val_accuracy: 0.7761 - val_loss: 0.7570\n",
            "Epoch 2/40\n",
            "\u001b[1m14/14\u001b[0m \u001b[32m━━━━━━━━━━━━━━━━━━━━\u001b[0m\u001b[37m\u001b[0m \u001b[1m14s\u001b[0m 967ms/step - accuracy: 0.9961 - loss: 0.0131 - val_accuracy: 0.7945 - val_loss: 0.8122\n",
            "Epoch 3/40\n",
            "\u001b[1m14/14\u001b[0m \u001b[32m━━━━━━━━━━━━━━━━━━━━\u001b[0m\u001b[37m\u001b[0m \u001b[1m21s\u001b[0m 1s/step - accuracy: 0.9992 - loss: 0.0052 - val_accuracy: 0.7699 - val_loss: 0.9691\n",
            "Epoch 4/40\n",
            "\u001b[1m14/14\u001b[0m \u001b[32m━━━━━━━━━━━━━━━━━━━━\u001b[0m\u001b[37m\u001b[0m \u001b[1m15s\u001b[0m 1s/step - accuracy: 0.9963 - loss: 0.0097 - val_accuracy: 0.7730 - val_loss: 0.9431\n"
          ]
        }
      ]
    },
    {
      "cell_type": "code",
      "source": [
        "pred_lr=model_lr.predict(X_test1)\n"
      ],
      "metadata": {
        "id": "JCdy1B8dTkh_",
        "colab": {
          "base_uri": "https://localhost:8080/"
        },
        "outputId": "5cfd227c-dd75-49ce-e62c-f2d1e0109be4"
      },
      "execution_count": 57,
      "outputs": [
        {
          "output_type": "stream",
          "name": "stdout",
          "text": [
            "\u001b[1m26/26\u001b[0m \u001b[32m━━━━━━━━━━━━━━━━━━━━\u001b[0m\u001b[37m\u001b[0m \u001b[1m4s\u001b[0m 135ms/step\n"
          ]
        }
      ]
    },
    {
      "cell_type": "code",
      "source": [],
      "metadata": {
        "id": "BFAp5Ojsp7Ms"
      },
      "execution_count": null,
      "outputs": []
    },
    {
      "cell_type": "code",
      "source": [
        "print(classification_report(np.argmax(y_test1,axis=1),np.argmax(pred_lr,axis=1)))"
      ],
      "metadata": {
        "colab": {
          "base_uri": "https://localhost:8080/"
        },
        "id": "_hzzGfH7QAbV",
        "outputId": "aed7b34b-71ca-405a-f99a-1fca3fbc187c"
      },
      "execution_count": 58,
      "outputs": [
        {
          "output_type": "stream",
          "name": "stdout",
          "text": [
            "              precision    recall  f1-score   support\n",
            "\n",
            "           0       0.85      0.76      0.80       406\n",
            "           1       0.78      0.87      0.83       409\n",
            "\n",
            "    accuracy                           0.81       815\n",
            "   macro avg       0.82      0.81      0.81       815\n",
            "weighted avg       0.82      0.81      0.81       815\n",
            "\n"
          ]
        }
      ]
    },
    {
      "source": [
        "val_accuracy_birnn = birnn_model_history.history['val_accuracy'][-1] # Get the last value of validation accuracy\n",
        "val_accuracy_dnn = dnn_model_history.history['val_accuracy'][-1]\n",
        "val_accuracy_gru = gru_model_history.history['val_accuracy'][-1]\n",
        "\n",
        "print(f\"BiRNN Validation Accuracy: {val_accuracy_birnn}\")\n",
        "print(f\"DNN Validation Accuracy: {val_accuracy_dnn}\")\n",
        "print(f\"GRU Validation Accuracy: {val_accuracy_gru}\")"
      ],
      "cell_type": "code",
      "metadata": {
        "colab": {
          "base_uri": "https://localhost:8080/"
        },
        "id": "ftKkLMhzMNzU",
        "outputId": "3b186ef6-74e6-4962-f94b-95c37a0859c8"
      },
      "execution_count": 63,
      "outputs": [
        {
          "output_type": "stream",
          "name": "stdout",
          "text": [
            "BiRNN Validation Accuracy: 0.6165643930435181\n",
            "DNN Validation Accuracy: 0.6932515501976013\n",
            "GRU Validation Accuracy: 0.7269938588142395\n"
          ]
        }
      ]
    },
    {
      "source": [
        "total_accuracy = val_accuracy_birnn + val_accuracy_dnn + val_accuracy_gru\n",
        "\n",
        "weight_birnn = val_accuracy_birnn / total_accuracy\n",
        "weight_dnn = val_accuracy_dnn / total_accuracy\n",
        "weight_gru = val_accuracy_gru / total_accuracy\n",
        "\n",
        "print(f\"BiRNN Weight: {weight_birnn}\")\n",
        "print(f\"DNN Weight: {weight_dnn}\")\n",
        "print(f\"GRU Weight: {weight_gru}\")"
      ],
      "cell_type": "code",
      "metadata": {
        "colab": {
          "base_uri": "https://localhost:8080/"
        },
        "id": "MBFsWjuPMbwr",
        "outputId": "cc67ec17-34d4-43ab-bd33-862cb8660b64"
      },
      "execution_count": 60,
      "outputs": [
        {
          "output_type": "stream",
          "name": "stdout",
          "text": [
            "BiRNN Weight: 0.30271083358953726\n",
            "DNN Weight: 0.3403614561840955\n",
            "GRU Weight: 0.3569277102263672\n"
          ]
        }
      ]
    },
    {
      "source": [
        "pred_birnn = birnn_model.predict(X_test1)\n",
        "pred_dnn = dnn_model.predict(X_test1)\n",
        "pred_gru = gru_model.predict(X_test1)\n",
        "\n",
        "ensemble_predictions = weight_birnn * pred_birnn + weight_dnn * pred_dnn + weight_gru * pred_gru\n",
        "\n",
        "# You might need to adjust this based on how your models output predictions\n",
        "final_predictions = np.argmax(ensemble_predictions, axis=1)"
      ],
      "cell_type": "code",
      "metadata": {
        "colab": {
          "base_uri": "https://localhost:8080/"
        },
        "id": "nYzjEs4fMd5i",
        "outputId": "14fdf209-1dfb-4332-dc49-45c5661422b7"
      },
      "execution_count": 61,
      "outputs": [
        {
          "output_type": "stream",
          "name": "stdout",
          "text": [
            "\u001b[1m26/26\u001b[0m \u001b[32m━━━━━━━━━━━━━━━━━━━━\u001b[0m\u001b[37m\u001b[0m \u001b[1m1s\u001b[0m 30ms/step\n",
            "\u001b[1m26/26\u001b[0m \u001b[32m━━━━━━━━━━━━━━━━━━━━\u001b[0m\u001b[37m\u001b[0m \u001b[1m1s\u001b[0m 19ms/step\n",
            "\u001b[1m26/26\u001b[0m \u001b[32m━━━━━━━━━━━━━━━━━━━━\u001b[0m\u001b[37m\u001b[0m \u001b[1m2s\u001b[0m 61ms/step\n"
          ]
        }
      ]
    },
    {
      "source": [
        "print(classification_report(np.argmax(y_test1,axis=1), final_predictions))"
      ],
      "cell_type": "code",
      "metadata": {
        "colab": {
          "base_uri": "https://localhost:8080/"
        },
        "id": "Ex_gKVNRMfmh",
        "outputId": "03d72bb1-c320-459c-ff6b-da4eac250b80"
      },
      "execution_count": 62,
      "outputs": [
        {
          "output_type": "stream",
          "name": "stdout",
          "text": [
            "              precision    recall  f1-score   support\n",
            "\n",
            "           0       0.85      0.69      0.76       406\n",
            "           1       0.74      0.88      0.80       409\n",
            "\n",
            "    accuracy                           0.79       815\n",
            "   macro avg       0.80      0.78      0.78       815\n",
            "weighted avg       0.80      0.79      0.78       815\n",
            "\n"
          ]
        }
      ]
    },
    {
      "cell_type": "code",
      "source": [],
      "metadata": {
        "id": "8-Xzu4X7L8KN"
      },
      "execution_count": null,
      "outputs": []
    },
    {
      "source": [
        "ensemble_predictions_birnn_dnn = weight_birnn * pred_birnn + weight_dnn * pred_dnn\n",
        "final_predictions_birnn_dnn = np.argmax(ensemble_predictions_birnn_dnn, axis=1)\n",
        "print(classification_report(np.argmax(y_test1,axis=1), final_predictions_birnn_dnn))"
      ],
      "cell_type": "code",
      "metadata": {
        "colab": {
          "base_uri": "https://localhost:8080/"
        },
        "id": "Yabrc2NxOJPT",
        "outputId": "57b51515-bd50-40de-f01b-d5f783e12336"
      },
      "execution_count": 64,
      "outputs": [
        {
          "output_type": "stream",
          "name": "stdout",
          "text": [
            "              precision    recall  f1-score   support\n",
            "\n",
            "           0       0.73      0.83      0.78       406\n",
            "           1       0.81      0.69      0.74       409\n",
            "\n",
            "    accuracy                           0.76       815\n",
            "   macro avg       0.77      0.76      0.76       815\n",
            "weighted avg       0.77      0.76      0.76       815\n",
            "\n"
          ]
        }
      ]
    },
    {
      "source": [
        "ensemble_predictions_birnn_gru = weight_birnn * pred_birnn + weight_gru * pred_gru\n",
        "final_predictions_birnn_gru = np.argmax(ensemble_predictions_birnn_gru, axis=1)\n",
        "print(classification_report(np.argmax(y_test1,axis=1), final_predictions_birnn_gru))"
      ],
      "cell_type": "code",
      "metadata": {
        "colab": {
          "base_uri": "https://localhost:8080/"
        },
        "id": "5uaYx_-FOLjb",
        "outputId": "eacec8cc-42a1-4d6c-f934-4f309a011230"
      },
      "execution_count": 65,
      "outputs": [
        {
          "output_type": "stream",
          "name": "stdout",
          "text": [
            "              precision    recall  f1-score   support\n",
            "\n",
            "           0       0.91      0.59      0.72       406\n",
            "           1       0.70      0.94      0.80       409\n",
            "\n",
            "    accuracy                           0.77       815\n",
            "   macro avg       0.80      0.77      0.76       815\n",
            "weighted avg       0.80      0.77      0.76       815\n",
            "\n"
          ]
        }
      ]
    },
    {
      "source": [
        "ensemble_predictions_dnn_gru = weight_dnn * pred_dnn + weight_gru * pred_gru\n",
        "final_predictions_dnn_gru = np.argmax(ensemble_predictions_dnn_gru, axis=1)\n",
        "print(classification_report(np.argmax(y_test1,axis=1), final_predictions_dnn_gru))"
      ],
      "cell_type": "code",
      "metadata": {
        "colab": {
          "base_uri": "https://localhost:8080/"
        },
        "id": "EVYJDJmRONTj",
        "outputId": "dc2dbb2f-68d1-4c91-e858-56d67aed319e"
      },
      "execution_count": 66,
      "outputs": [
        {
          "output_type": "stream",
          "name": "stdout",
          "text": [
            "              precision    recall  f1-score   support\n",
            "\n",
            "           0       0.84      0.72      0.78       406\n",
            "           1       0.76      0.87      0.81       409\n",
            "\n",
            "    accuracy                           0.80       815\n",
            "   macro avg       0.80      0.80      0.80       815\n",
            "weighted avg       0.80      0.80      0.80       815\n",
            "\n"
          ]
        }
      ]
    },
    {
      "source": [
        "pred_dnn = dnn_model.predict(X_test_witout)  # Generate predictions for the same data (X_test1)\n",
        "pred_lstm_rnn = model.predict(X_test_witout) # Generate predictions for the same data (X_test1)\n",
        "\n",
        "ensemble_predictions_dnn_lstm_rnn = weight_dnn * pred_dnn + weight_lstm_rnn * pred_lstm_rnn\n",
        "final_predictions_dnn_lstm_rnn = np.argmax(ensemble_predictions_dnn_lstm_rnn, axis=1)\n",
        "# print(classification_report(np.argmax(y_test1,axis=1), final_predictions_dnn_lstm_rnn))"
      ],
      "cell_type": "code",
      "metadata": {
        "colab": {
          "base_uri": "https://localhost:8080/"
        },
        "id": "YoqYJzJ9rgPT",
        "outputId": "0e7bc28e-600b-4574-a249-0d855ec42910"
      },
      "execution_count": 67,
      "outputs": [
        {
          "output_type": "stream",
          "name": "stdout",
          "text": [
            "\u001b[1m32/32\u001b[0m \u001b[32m━━━━━━━━━━━━━━━━━━━━\u001b[0m\u001b[37m\u001b[0m \u001b[1m1s\u001b[0m 21ms/step\n",
            "\u001b[1m32/32\u001b[0m \u001b[32m━━━━━━━━━━━━━━━━━━━━\u001b[0m\u001b[37m\u001b[0m \u001b[1m3s\u001b[0m 91ms/step\n"
          ]
        }
      ]
    },
    {
      "source": [
        "# Assuming 'X_test1' is the correct data for both models, use it for prediction:\n",
        "pred_birnn = birnn_model.predict(X_test_witout)\n",
        "pred_lstm_rnn = model.predict(X_test_witout)\n",
        "\n",
        "# Now, perform the ensemble prediction:\n",
        "ensemble_predictions_birnn_lstm_rnn = weight_birnn * pred_birnn + weight_lstm_rnn * pred_lstm_rnn\n",
        "final_predictions_birnn_lstm_rnn = np.argmax(ensemble_predictions_birnn_lstm_rnn, axis=1)\n",
        "# print(classification_report(np.argmax(y_test1,axis=1), final_predictions_birnn_lstm_rnn))"
      ],
      "cell_type": "code",
      "metadata": {
        "colab": {
          "base_uri": "https://localhost:8080/"
        },
        "id": "Bl1cDp1ay1kc",
        "outputId": "b9190120-ac6a-4709-bc43-4d9b2f51cde6"
      },
      "execution_count": 68,
      "outputs": [
        {
          "output_type": "stream",
          "name": "stdout",
          "text": [
            "\u001b[1m32/32\u001b[0m \u001b[32m━━━━━━━━━━━━━━━━━━━━\u001b[0m\u001b[37m\u001b[0m \u001b[1m3s\u001b[0m 99ms/step\n",
            "\u001b[1m32/32\u001b[0m \u001b[32m━━━━━━━━━━━━━━━━━━━━\u001b[0m\u001b[37m\u001b[0m \u001b[1m5s\u001b[0m 151ms/step\n"
          ]
        }
      ]
    },
    {
      "source": [
        "ensemble_predictions_dnn_lstm_rnn = weight_dnn * pred_dnn + weight_lstm_rnn * pred_lstm_rnn"
      ],
      "cell_type": "code",
      "metadata": {
        "id": "dVOpozRRL9OT"
      },
      "execution_count": 69,
      "outputs": []
    },
    {
      "cell_type": "code",
      "source": [],
      "metadata": {
        "id": "lUcCK-38P2UO"
      },
      "execution_count": null,
      "outputs": []
    },
    {
      "source": [
        "model = Sequential()\n",
        "model.add(Embedding(VOCAB_SIZE, EMBEDDING_DIM, weights=[embedding_matrix], trainable=True))\n",
        "model.add(GRU(128, return_sequences=True))  # GRU layer with return_sequences=True to pass output to RNN\n",
        "model.add(SimpleRNN(64))  # RNN layer after GRU\n",
        "model.add(Dense(2, activation='sigmoid'))  # Output layer for binary classification (adjust units as needed)"
      ],
      "cell_type": "code",
      "metadata": {
        "id": "pBp0DqVtP5lE"
      },
      "execution_count": 72,
      "outputs": []
    },
    {
      "source": [
        "model.compile(loss='binary_crossentropy', optimizer='adam', metrics=['accuracy'])"
      ],
      "cell_type": "code",
      "metadata": {
        "id": "8y8nN-6BP6UU"
      },
      "execution_count": 73,
      "outputs": []
    },
    {
      "source": [
        "history = model.fit(X_train1, y_train1, epochs=10, batch_size=64, validation_split=0.2)"
      ],
      "cell_type": "code",
      "metadata": {
        "colab": {
          "base_uri": "https://localhost:8080/"
        },
        "id": "SqxAPtWLP7ED",
        "outputId": "8032783e-b71a-495e-c312-b10ee26b1062"
      },
      "execution_count": 71,
      "outputs": [
        {
          "output_type": "stream",
          "name": "stdout",
          "text": [
            "Epoch 1/10\n",
            "\u001b[1m41/41\u001b[0m \u001b[32m━━━━━━━━━━━━━━━━━━━━\u001b[0m\u001b[37m\u001b[0m \u001b[1m33s\u001b[0m 804ms/step - accuracy: 0.9821 - loss: 0.0660 - val_accuracy: 0.8742 - val_loss: 0.3550\n",
            "Epoch 2/10\n",
            "\u001b[1m41/41\u001b[0m \u001b[32m━━━━━━━━━━━━━━━━━━━━\u001b[0m\u001b[37m\u001b[0m \u001b[1m38s\u001b[0m 928ms/step - accuracy: 0.9923 - loss: 0.0326 - val_accuracy: 0.8834 - val_loss: 0.4121\n",
            "Epoch 3/10\n",
            "\u001b[1m41/41\u001b[0m \u001b[32m━━━━━━━━━━━━━━━━━━━━\u001b[0m\u001b[37m\u001b[0m \u001b[1m30s\u001b[0m 648ms/step - accuracy: 0.9960 - loss: 0.0216 - val_accuracy: 0.8819 - val_loss: 0.3942\n",
            "Epoch 4/10\n",
            "\u001b[1m41/41\u001b[0m \u001b[32m━━━━━━━━━━━━━━━━━━━━\u001b[0m\u001b[37m\u001b[0m \u001b[1m33s\u001b[0m 456ms/step - accuracy: 0.9985 - loss: 0.0084 - val_accuracy: 0.9049 - val_loss: 0.3734\n",
            "Epoch 5/10\n",
            "\u001b[1m41/41\u001b[0m \u001b[32m━━━━━━━━━━━━━━━━━━━━\u001b[0m\u001b[37m\u001b[0m \u001b[1m27s\u001b[0m 627ms/step - accuracy: 0.9974 - loss: 0.0082 - val_accuracy: 0.9049 - val_loss: 0.4041\n",
            "Epoch 6/10\n",
            "\u001b[1m41/41\u001b[0m \u001b[32m━━━━━━━━━━━━━━━━━━━━\u001b[0m\u001b[37m\u001b[0m \u001b[1m37s\u001b[0m 537ms/step - accuracy: 0.9688 - loss: 0.1070 - val_accuracy: 0.7669 - val_loss: 0.5314\n",
            "Epoch 7/10\n",
            "\u001b[1m41/41\u001b[0m \u001b[32m━━━━━━━━━━━━━━━━━━━━\u001b[0m\u001b[37m\u001b[0m \u001b[1m39s\u001b[0m 483ms/step - accuracy: 0.9619 - loss: 0.1275 - val_accuracy: 0.8727 - val_loss: 0.3375\n",
            "Epoch 8/10\n",
            "\u001b[1m41/41\u001b[0m \u001b[32m━━━━━━━━━━━━━━━━━━━━\u001b[0m\u001b[37m\u001b[0m \u001b[1m19s\u001b[0m 448ms/step - accuracy: 0.9958 - loss: 0.0173 - val_accuracy: 0.8834 - val_loss: 0.3248\n",
            "Epoch 9/10\n",
            "\u001b[1m41/41\u001b[0m \u001b[32m━━━━━━━━━━━━━━━━━━━━\u001b[0m\u001b[37m\u001b[0m \u001b[1m22s\u001b[0m 477ms/step - accuracy: 0.9988 - loss: 0.0066 - val_accuracy: 0.8819 - val_loss: 0.3402\n",
            "Epoch 10/10\n",
            "\u001b[1m41/41\u001b[0m \u001b[32m━━━━━━━━━━━━━━━━━━━━\u001b[0m\u001b[37m\u001b[0m \u001b[1m19s\u001b[0m 446ms/step - accuracy: 0.9983 - loss: 0.0063 - val_accuracy: 0.8880 - val_loss: 0.3459\n"
          ]
        }
      ]
    },
    {
      "source": [
        "pred = model.predict(X_test_witout)  # Get the predictions\n",
        "# Assuming your model outputs probabilities, get the class with highest probability\n",
        "# Replace 'axis=1' if your model outputs a different shape\n",
        "predicted_classes = np.argmax(pred, axis=1)\n",
        "\n",
        "# Evaluate using appropriate metrics (e.g., classification_report)\n",
        "# print(classification_report(np.argmax(y_test1, axis=1), predicted_classes))"
      ],
      "cell_type": "code",
      "metadata": {
        "colab": {
          "base_uri": "https://localhost:8080/"
        },
        "id": "jYGIEUYrRLId",
        "outputId": "42e1db0a-746e-4fb3-8416-781c2755751b"
      },
      "execution_count": null,
      "outputs": [
        {
          "output_type": "stream",
          "name": "stdout",
          "text": [
            "\u001b[1m32/32\u001b[0m \u001b[32m━━━━━━━━━━━━━━━━━━━━\u001b[0m\u001b[37m\u001b[0m \u001b[1m5s\u001b[0m 149ms/step\n"
          ]
        }
      ]
    },
    {
      "cell_type": "markdown",
      "source": [
        "Run submission"
      ],
      "metadata": {
        "id": "gA_YpWgAWs9M"
      }
    },
    {
      "source": [
        "# Get predictions for the development set using both models\n",
        "pred_dnn_dev = dnn_model.predict(X_test1)  # Predictions for development set using dnn_model\n",
        "pred_lstm_rnn_dev = model.predict(X_test1) # Predictions for development set using model (LSTM + RNN)\n",
        "\n",
        "# Now perform the ensemble on the development set predictions\n",
        "ensemble_predictions_dnn_lstm_rnn = weight_dnn * pred_dnn_dev + weight_lstm_rnn * pred_lstm_rnn_dev\n",
        "final_predictions_dnn_lstm_rnn = np.argmax(ensemble_predictions_dnn_lstm_rnn, axis=1)\n",
        "\n",
        "# ... (rest of your code for evaluation on the development set) ...\n",
        "\n",
        "\n",
        "# For submission, get predictions for the test set without labels\n",
        "pred_dnn_test = dnn_model.predict(X_test_witout)  # Predictions for test set using dnn_model\n",
        "pred_lstm_rnn_test = model.predict(X_test_witout) # Predictions for test set using model (LSTM + RNN)\n",
        "\n",
        "# Perform the ensemble for the test set predictions\n",
        "ensemble_predictions_test = weight_dnn * pred_dnn_test + weight_lstm_rnn * pred_lstm_rnn_test\n",
        "final_predictions_test = np.argmax(ensemble_predictions_test, axis=1)\n",
        "\n",
        "# Create the submission DataFrame\n",
        "submission_df = pd.DataFrame({\n",
        "    'id': data_test['Id'],\n",
        "    'label': final_predictions_test  # Use the test set predictions for submission\n",
        "})\n",
        "\n",
        "submission_df.to_csv('run2.csv', index=False)"
      ],
      "cell_type": "code",
      "metadata": {
        "colab": {
          "base_uri": "https://localhost:8080/"
        },
        "id": "DP04u05BYA18",
        "outputId": "468cd20e-c692-4429-ba42-be0b3301971c"
      },
      "execution_count": null,
      "outputs": [
        {
          "output_type": "stream",
          "name": "stdout",
          "text": [
            "\u001b[1m26/26\u001b[0m \u001b[32m━━━━━━━━━━━━━━━━━━━━\u001b[0m\u001b[37m\u001b[0m \u001b[1m1s\u001b[0m 19ms/step\n",
            "\u001b[1m26/26\u001b[0m \u001b[32m━━━━━━━━━━━━━━━━━━━━\u001b[0m\u001b[37m\u001b[0m \u001b[1m2s\u001b[0m 65ms/step\n",
            "\u001b[1m32/32\u001b[0m \u001b[32m━━━━━━━━━━━━━━━━━━━━\u001b[0m\u001b[37m\u001b[0m \u001b[1m1s\u001b[0m 25ms/step\n",
            "\u001b[1m32/32\u001b[0m \u001b[32m━━━━━━━━━━━━━━━━━━━━\u001b[0m\u001b[37m\u001b[0m \u001b[1m2s\u001b[0m 65ms/step\n"
          ]
        }
      ]
    }
  ]
}